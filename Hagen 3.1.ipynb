{
 "cells": [
  {
   "cell_type": "markdown",
   "metadata": {},
   "source": [
    "# Hagen 3.1 [10]\n",
    "Ein Röstgas für die Herstellung von Schwefelsäure nach dem Kontaktverfahren hat die folgende Zusammensetzung in Vol.-%:\n",
    "\n",
    "  comp | Vol%\n",
    "     - | - \n",
    " $SO_2$ | 7,8%\n",
    " $O_2$ | 10,8%\n",
    " $N_2$ | 81,4%\n",
    "\n",
    "Der Gleichgewichtsumsatz bei 500°C und 1 bar beträgt 0,96.\n",
    "\n",
    "$SO_2 + \\frac{1}{2} O_2 \n",
    "{_{\\leftarrow}^{\\rightarrow}} SO_3$\n",
    "\n",
    "Berechne die Zusammensetzung des Gasgemisches nach Erreichen des Gleich-gewichts."
   ]
  },
  {
   "cell_type": "markdown",
   "metadata": {},
   "source": [
    "## Lösung\n",
    "Umsatz, auf der Basis des Schwefeldioxids: \n",
    "\n",
    "$U_k =0,96= 1 - \\frac{x_{SO_2}\\dot{n}}{x_{0, SO_2}\\dot{n_0}} $\n",
    "\n",
    "Aus den Billanzen in einem geschlossenen Rührkessel ($n_i = n_{0, i} + \\sum_j{\\nu_{ij} \\xi_j}$) entsteht ein System von 6 unabhängigen Gleichungen:\n",
    "\n",
    "| no. | Gl.  |\n",
    "| - | - |\n",
    "| 1 | $\\rlap{x_{SO_2}\\dot{n} = x_{0, SO_2}\\dot{n_0} + \\nu_{SO_2}\\xi_1}$ |\n",
    "| 2 | $\\rlap{x_{O_2}\\dot{n} = x_{0, O_2}\\dot{n_0} + \\nu_{O_2}\\xi_1}$ |\n",
    "| 3 | $\\rlap{x_{N_2}\\dot{n} = x_{0, N_2}\\dot{n_0} + \\nu_{N_2}\\xi_1}$ |\n",
    "| 4 | $\\rlap{x_{SO_3}\\dot{n} = x_{0, SO_3}\\dot{n_0} + \\nu_{SO_3}\\xi_1}$ |\n",
    "| 5 | $\\rlap{1 = x_{SO_2} + x_{O_2} + x_{N_2} + x_{SO_3}}$ |\n",
    "| 6 | $\\rlap{U_k =0,96= 1 - \\frac{x_{SO_2}\\dot{n}}{x_{0, SO_2}\\dot{n_0}}}$ |\n",
    "\n",
    "Da in diesem System noch 7 Veränderlichen zu bestimmen stehen ($x_{SO_2}$, $x_{O_2}$, $x_{N_2}$, $x_{SO_3}$, $\\dot{n}$, $\\dot{n_0}$, $\\xi_1$), erfolgt dessen Lösung durch die Verringerung der Anzahl an Variablen. Zwei Gruppen weisen sich als geeignet auf, um eine Rationalisierung durchzuführen: \n",
    "* Reaktionslaufzahl pro Einheit zulaufender Stoffmenge  $\\left(\\frac{\\xi_1}{\\dot{n_0}}\\right)$\n",
    "* Auslaufende Stoffmenge pro Einheit zulaufender Stoffmenge $\\left(\\frac{\\dot{n}}{\\dot{n_0}}\\right)$\n",
    "\n",
    "Das System wird folgendermaßen umgesetzt:\n",
    "\n",
    "| no. | Gl.  |\n",
    "| - | - |\n",
    "| 1 | $\\rlap{x_{SO_2}\\left(\\frac{\\dot{n}}{\\dot{n_0}}\\right) = x_{0, SO_2} + \\nu_{SO_2}\\left(\\frac{\\xi_1}{\\dot{n_0}}\\right)}$ |\n",
    "| 2 | $\\rlap{x_{O_2}\\left(\\frac{\\dot{n}}{\\dot{n_0}}\\right) = x_{0, O_2} + \\nu_{O_2}\\left(\\frac{\\xi_1}{\\dot{n_0}}\\right)}$ |\n",
    "| 3 | $\\rlap{x_{N_2}\\left(\\frac{\\dot{n}}{\\dot{n_0}}\\right) = x_{0, N_2} + \\nu_{N_2}\\left(\\frac{\\xi_1}{\\dot{n_0}}\\right)}$ |\n",
    "| 4 | $\\rlap{x_{SO_3}\\left(\\frac{\\dot{n}}{\\dot{n_0}}\\right) = x_{0, SO_3} + \\nu_{SO_3}\\left(\\frac{\\xi_1}{\\dot{n_0}}\\right)}$ |\n",
    "| 5 | $\\rlap{1 = x_{SO_2} + x_{O_2} + x_{N_2} + x_{SO_3}}$ |\n",
    "| 6 | $\\rlap{U_k =0,96= 1 - \\frac{x_{SO_2}}{x_{0, SO_2}}\\left(\\frac{\\dot{n}}{\\dot{n_0}}\\right)}$ |\n",
    "\n",
    "Mit 6 Veränderlichen und umsoviel Gleichungen lässt sich eine Lösung finden. Gleichungen 1 zusammen mit 6 ermöglichen die sofortige Rechnung der Reaktionslaufzahl-Proportion, wonach die Auslaufstoffmengen-Proportion durch die Summe von Gleichungen 1 bis 4 und anhand der Gleichung 5 berechnet wird: \n",
    "\n",
    "* Aus 1 mit 6: $\\left(\\frac{\\xi_1}{\\dot{n_0}}\\right) = \\frac{-U_{SO_2}}{\\nu_{SO_2}}\\times x_{0, SO_2} =  \\frac{-0,96}{-1}\\times 0,078$\n",
    "\n",
    "* Aus 1 bis 5: $(1)\\left(\\frac{\\dot{n}}{\\dot{n_0}}\\right)  = 1 + \\left(\\sum_i{\\nu_{i1}} \\right)\\times \\left(\\frac{\\xi_1}{\\dot{n_0}}\\right)$\n",
    "\n",
    "$\\left(\\frac{\\dot{n}}{\\dot{n_0}}\\right) = 1 + \\left(\\sum_i{\\nu_{i1}} \\right)\\times \\left(\\frac{-U_{SO_2}}{\\nu_{SO_2}}\\times x_{0, SO_2} \\right)=1 + \\left(-1-1/2+1 \\right)\\times \\left(\\frac{-0,96}{-1}\\times 0,078 \\right)$\n",
    "\n",
    "Somit kann jeder Molenbruch berechnet werden, unabhängig von den Zulaufs- und Auslaufströmen:\n",
    "\n",
    "$x_i = \\frac{x_{0, i}+\\nu_i \\left(\\frac{\\xi_1}{\\dot{n_0}}\\right)}{ 1 + \\left(\\sum_i{\\nu_{i1}} \\right)\\times \\left(\\frac{\\xi_1}{\\dot{n_0}}\\right)}$"
   ]
  },
  {
   "cell_type": "code",
   "execution_count": 18,
   "metadata": {},
   "outputs": [
    {
     "name": "stdout",
     "output_type": "stream",
     "text": [
      "xi_durch_n0: 0.07488\n",
      "n_durch_n0: 0.96256\n",
      "xso2: 0.00324136\n",
      "xn2: 0.845662\n",
      "xo2: 0.0733045\n",
      "xso3: 0.0777926\n"
     ]
    }
   ],
   "source": [
    "x0so2 = 0.078\n",
    "x0n2 = 0.814\n",
    "x0o2 = 0.108\n",
    "x0so3 = 0.0\n",
    "\n",
    "nuso2 = -1.0\n",
    "nun2 = 0.0\n",
    "nuo2 = -1.0/2.0\n",
    "nuso3 = 1.0\n",
    "\n",
    "uk = 0.96\n",
    "\n",
    "xi_durch_n0 = -uk/nuso2 * x0so2\n",
    "n_durch_n0 = 1 + sum([nuso2, nun2, nuo2, nuso3]) * xi_durch_n0\n",
    "xso2 = (x0so2 + nuso2 * xi_durch_n0)/n_durch_n0\n",
    "xn2 = (x0n2 + nun2 * xi_durch_n0)/n_durch_n0\n",
    "xo2 = (x0o2 + nuo2 * xi_durch_n0)/n_durch_n0\n",
    "xso3 = (x0so3 + nuso3 * xi_durch_n0)/n_durch_n0\n",
    "\n",
    "for var in [\n",
    "    'xi_durch_n0', 'n_durch_n0', 'xso2', 'xn2', 'xo2', 'xso3'\n",
    "    ]:\n",
    "    print var + ': ' + '{0:g}'.format(locals()[var])"
   ]
  }
 ],
 "metadata": {
  "kernelspec": {
   "display_name": "Python 2",
   "language": "python",
   "name": "python2"
  },
  "language_info": {
   "codemirror_mode": {
    "name": "ipython",
    "version": 2
   },
   "file_extension": ".py",
   "mimetype": "text/x-python",
   "name": "python",
   "nbconvert_exporter": "python",
   "pygments_lexer": "ipython2",
   "version": "2.7.11"
  }
 },
 "nbformat": 4,
 "nbformat_minor": 2
}

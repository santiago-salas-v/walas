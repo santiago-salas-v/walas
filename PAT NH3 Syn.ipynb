{
 "cells": [
  {
   "cell_type": "markdown",
   "metadata": {},
   "source": [
    "# System\n",
    "\n",
    "* Stoffbilanzen (C) + Gleichgewichtbedingungen (R)\n",
    "\n",
    "$\\begin{array}{llll}\n",
    "\\dot n_j &= \\dot n_{j, 0} + \\sum\\limits_{i}^{\\mathcal R}{\\nu_{ij} \\cdot \\xi_i}& \\quad &\\mathcal{C}\\\\\n",
    "K_{y,i}(T) &= \\prod\\limits_{j}^{\\mathcal C}{\\left(\\frac{\\dot n_j}{\\sum\\limits_j^{\\mathcal{C}}\\dot n_j}\\right)^{\\nu_{ij}}} &\\quad& \\mathcal{R} \\\\\n",
    "&&& \\overline{\\mathcal{C}+\\mathcal{R}}\\\\\n",
    "\\end{array}$\n",
    "\n",
    "\n",
    "* Energiebilanz (für den adiabatischen Fall) (1)\n",
    "\n",
    "$\\begin{array}{lll}\n",
    "0 &= \\dot Q & + \n",
    "\\sum\\limits_i(\\dot n_i (\\Delta H_i^{\\circ}(T)-\\Delta H_{i,0}^\\circ))_{ein}-\n",
    "\\sum\\limits_i(\\dot n_i (\\Delta H_i^{\\circ}(T)-\\Delta H_{i,0}^\\circ))_{aus} + \n",
    "\\sum\\limits_{j}{\\xi_j (-\\Delta Hr_j(T))}\\\\\n",
    "&= 0 &+ \\sum\\limits_i\\dot n_{i,0} \n",
    "\\cdot(\\Delta H_i^{\\circ}(T_{ein})-\\Delta H_{i,0}^\\circ))\\\\\n",
    "&&-\n",
    "\\sum\\limits_i\\dot n_{i,2}\\cdot(\\Delta H_i^{\\circ}(T_2)-\\Delta H_{i,0}^\\circ) \\\\\n",
    "&&+\\sum\\limits_{j}{\\xi_j \\cdot (-\\Delta Hr_j(T_2))}\\\\\n",
    "\\end{array}\\\\\n",
    "$"
   ]
  },
  {
   "cell_type": "markdown",
   "metadata": {},
   "source": [
    "## 1. Isotherm"
   ]
  },
  {
   "cell_type": "markdown",
   "metadata": {},
   "source": [
    "f ($\\mathcal{R}\\times1$)\n",
    "===\n",
    "\n",
    "$\\begin{array}{llll}\n",
    "0 &= -K_{y,i}(T) + \\prod\\limits_{j}^{\\mathcal C}{\\left(\\frac{\\dot n_{j, 0} + \\sum\\limits_{i}^{\\mathcal R}{\\nu_{ij} \\cdot \\xi_i}}{\\sum\\limits_j^{\\mathcal{C}}\\dot n_{j, 0} + \\sum\\limits_{j}^{\\mathcal{C}}\\sum\\limits_{i}^{\\mathcal R}{\\nu_{ij} \\cdot \\xi_i}}\\right)^{\\nu_{ij}}}\\\\\n",
    "\\end{array}$\n",
    "\n",
    "jac ($\\mathcal{R} \\times \\mathcal{R}$)\n",
    "===\n",
    "\n",
    "$\\begin{array}{ll}\n",
    "{{\\partial f_j}\\over{\\partial \\xi_i}}=&\\prod\\limits_{k}^{\\mathcal C}{\\left(\\frac{\\dot n_{k, 0} + \\sum\\limits_{j}^{\\mathcal R}{\\nu_{jk} \\cdot \\xi_j}}{\\sum\\limits_k^{\\mathcal{C}}\\dot n_{k, 0} + \\sum\\limits_{k}^{\\mathcal{C}}\\sum\\limits_{j}^{\\mathcal R}{\\nu_{jk} \\cdot \\xi_j}}\\right)^{\\nu_{ij}}} \\cdot \\left[\\sum\\limits_k^{\\mathcal{C}}\\frac{\\nu_{i k} \\nu_{j k}}{\\dot n_{k, 0} + \\sum\\limits_{j}^{\\mathcal R}{\\nu_{jk} \\cdot \\xi_j}} -\\frac{\\left(\\sum\\limits_k^{\\mathcal C}\\nu_{ik}\\right)\\cdot\\left(\\sum\\limits_k^{\\mathcal C}\\nu_{jk}\\right)}{\\sum\\limits_k^{\\mathcal{C}}\\dot n_{k, 0} + \\sum\\limits_{k}^{\\mathcal{C}}\\sum\\limits_{j}^{\\mathcal R}{\\nu_{jk} \\cdot \\xi_j}}\\right]\\\\\n",
    "\\end{array}$"
   ]
  },
  {
   "cell_type": "markdown",
   "metadata": {},
   "source": [
    "## 2. Adiabat\n",
    "\n",
    "f ($(\\mathcal{R +1 })\\times1$)\n",
    "===\n",
    "\n",
    "$\\begin{array}{llll}\n",
    "f_j &= 0 =& -K_{y,i}(T) + \\prod\\limits_{j}^{\\mathcal C}{\\left(\\frac{\\dot n_{j, 0} + \\sum\\limits_{i}^{\\mathcal R}{\\nu_{ij} \\cdot \\xi_i}}{\\sum\\limits_j^{\\mathcal{C}}\\dot n_{j, 0} + \\sum\\limits_{j}^{\\mathcal{C}}\\sum\\limits_{i}^{\\mathcal R}{\\nu_{ij} \\cdot \\xi_i}}\\right)^{\\nu_{ij}}}\\\\\n",
    "f_q &=  0 =& + \\sum\\limits_i^{\\mathcal{C}}\\dot n_{i,0} \n",
    "\\cdot(\\Delta H_i^{\\circ}(T_{ein})-\\Delta H_{i,0}^\\circ))\\\\\n",
    "&&-\\sum\\limits_j^{\\mathcal{C}} (\\dot n_{j, 0} + \n",
    "\\sum\\limits_{i}^{\\mathcal R}{\\nu_{ij} \\cdot \\xi_i})\n",
    "\\cdot(\\Delta H_j^{\\circ}(T_2)-\\Delta H_{j,0}^\\circ) \\\\\n",
    "&&+\\sum\\limits_{i}^{\\mathcal R}{\\xi_i \\cdot (-\\Delta Hr_i(T_2))}\\\\\n",
    "\\end{array}$\n",
    "\n",
    "jac ($(\\mathcal{R +1 }) \\times (\\mathcal{R +1 })$)\n",
    "===\n",
    "\n",
    "$\\begin{array}{ll}\n",
    "{{\\partial f_j}\\over{\\partial \\xi_i}}=&\\prod\\limits_{k}^{\\mathcal C}{\\left(\\frac{\\dot n_{k, 0} + \\sum\\limits_{j}^{\\mathcal R}{\\nu_{jk} \\cdot \\xi_j}}{\\sum\\limits_k^{\\mathcal{C}}\\dot n_{k, 0} + \\sum\\limits_{k}^{\\mathcal{C}}\\sum\\limits_{j}^{\\mathcal R}{\\nu_{jk} \\cdot \\xi_j}}\\right)^{\\nu_{ij}}} \\cdot \\left[\\sum\\limits_k^{\\mathcal{C}}\\frac{\\nu_{i k} \\nu_{j k}}{\\dot n_{k, 0} + \\sum\\limits_{j}^{\\mathcal R}{\\nu_{jk} \\cdot \\xi_j}} -\\frac{\\left(\\sum\\limits_k^{\\mathcal C}\\nu_{ik}\\right)\\cdot\\left(\\sum\\limits_k^{\\mathcal C}\\nu_{jk}\\right)}{\\sum\\limits_k^{\\mathcal{C}}\\dot n_{k, 0} + \\sum\\limits_{k}^{\\mathcal{C}}\\sum\\limits_{j}^{\\mathcal R}{\\nu_{jk} \\cdot \\xi_j}}\\right]\\\\\n",
    "{{\\partial f_j}\\over{\\partial T_2}}=&0\\\\\n",
    "{{\\partial f_q}\\over{\\partial \\xi_i}}=&\n",
    "-\\sum\\limits_j^{\\mathcal{C}} (\\nu_{ij})\n",
    "\\cdot(\\Delta H_j^{\\circ}(T_2)-\\Delta H_{j,0}^\\circ) \\\\\n",
    "&+{(-\\Delta Hr_i(T_2))}\\\\\n",
    "{{\\partial f_q}\\over{\\partial T_2}}=&\n",
    "- \\left(\\dot n_{k, 0} + \\sum\\limits_{j}^{\\mathcal R}{\\nu_{jk} \\cdot \\xi_j}\\right)\n",
    "\\cdot \\left(\\frac{\\partial \\Delta H_j^{\\circ}(T_2)}{\\partial T_2}\\right)\\\\\n",
    "&+ \\sum\\limits_j^{\\mathcal R}\\xi_j \\cdot \n",
    "\\left(-\\frac{\\partial \\Delta Hr_i(T_2))}{\\partial T_2}\\right)\\\\\n",
    "\\left(\\frac{\\partial \\Delta H_j^{\\circ}(T_2)}{\\partial T_2}\\right)=& \n",
    "\\left(\\frac{Cp^{ig}(T_2)}{R}\\right) \\\\\n",
    "\\left(\\frac{\\partial \\Delta Hr_i(T_2))}{\\partial T_2}\\right) =& \n",
    "\\left(\\frac{\\Delta Cp^{ig}(T_2)}{R}\\right)\\\\\n",
    "\\end{array}$"
   ]
  },
  {
   "cell_type": "code",
   "execution_count": 1,
   "metadata": {},
   "outputs": [
    {
     "name": "stdout",
     "output_type": "stream",
     "text": [
      "========================================\n",
      "Gesamtfehler (Relaxation): 0.00986317767198\n",
      "\n",
      "\n",
      "\n",
      "\n",
      "\n",
      "========================================\n",
      "Dampf-Reformierung: Vorwärmer + Reaktor\n",
      "========================================\n",
      "Vormärmer (auf T= 1268.15 °K), Q: 801968,17827294685412 kW\n",
      "Isothermisch betriebener Reaktor, Q: 771872,01605517149437 kW\n",
      "Totale zu tauschende Energie, Q: 1573840,1943281178828 kW\n",
      "\n",
      "n_{CO}=14202,548193623926636 kmol/h\n",
      "n_{H2}=59492,791155496750434 kmol/h\n",
      "n_{CO2}=5796,9281889969897748 kmol/h\n",
      "n_{H2O}=40503,59542838181369 kmol/h\n",
      "n_{CH4}=0,52361737908422945065 kmol/h\n",
      "n_{NH3}=1,7107875755075534485 kmol/h\n",
      "n_{AR}=150 kmol/h\n",
      "n_{O2}=1,4295801520347594987e-10 kmol/h\n",
      "n_{N2}=11699,14460621224498 kmol/h\n",
      "n_T=131847,24197766647558 kmol/h\n",
      "\n",
      "y_{CO}=0,10771972155496198353\n",
      "y_{H2}=0,45122514709541067246\n",
      "y_{CO2}=0,043967003799585950563\n",
      "y_{H2O}=0,30720093056813957411\n",
      "y_{CH4}=3,9713942531533934422e-06\n",
      "y_{NH3}=1,297552796589664559e-05\n",
      "y_{AR}=0,0011376802256160081523\n",
      "y_{O2}=1,0842700466020482665e-15\n",
      "y_{N2}=0,088732569834065674885\n",
      "\n",
      "T: 1268.15 °K\n",
      "p: 35 bar\n",
      "H: -70754867.754825 J/kmol\n",
      "========================================\n",
      "Wassergashift: Vorkühler + Reaktor\n",
      "========================================\n",
      "Vormärmer (auf T= 483.15 °K), Q: -987445,79712940903846 kW\n"
     ]
    }
   ],
   "source": [
    "import bsp_pat_ue_03_2"
   ]
  }
 ],
 "metadata": {
  "kernelspec": {
   "display_name": "Python 3",
   "language": "python",
   "name": "python3"
  },
  "language_info": {
   "codemirror_mode": {
    "name": "ipython",
    "version": 3
   },
   "file_extension": ".py",
   "mimetype": "text/x-python",
   "name": "python",
   "nbconvert_exporter": "python",
   "pygments_lexer": "ipython3",
   "version": "3.6.3"
  }
 },
 "nbformat": 4,
 "nbformat_minor": 2
}

{
 "cells": [
  {
   "cell_type": "markdown",
   "metadata": {},
   "source": [
    "# System\n",
    "\n",
    "* Stoffbilanzen (C) + Gleichgewichtbedingungen (R)\n",
    "\n",
    "$\\begin{array}{llll}\n",
    "\\dot n_j &= \\dot n_{j, 0} + \\sum\\limits_{i}^{\\mathcal R}{\\nu_{ij} \\cdot \\xi_i}& \\quad &\\mathcal{C}\\\\\n",
    "K_{i}(T)\\cdot p^{-\\sum\\limits_{j}^{\\mathcal C}{\\nu_{ij}}} &= \\prod\\limits_{j}^{\\mathcal C}{\\left(\\frac{\\dot n_j}{\\sum\\limits_j^{\\mathcal{C}}\\dot n_j}\\right)^{\\nu_{ij}}} &\\quad& \\mathcal{R} \\\\\n",
    "&&& \\overline{\\mathcal{C}+\\mathcal{R}}\\\\\n",
    "\\end{array}$\n",
    "\n",
    "\n",
    "* Energiebilanz (für den adiabatischen Fall) (1)\n",
    "\n",
    "$\\begin{array}{lll}\n",
    "0 &= \\dot Q & + \n",
    "\\sum\\limits_i(\\dot n_i (\\Delta H_i^{\\circ}(T)-\\Delta H_{i,0}^\\circ))_{ein}-\n",
    "\\sum\\limits_i(\\dot n_i (\\Delta H_i^{\\circ}(T)-\\Delta H_{i,0}^\\circ))_{aus} + \n",
    "\\sum\\limits_{j}{\\xi_j (-\\Delta Hr_j(T))}\\\\\n",
    "&= 0 &+ \\sum\\limits_i\\dot n_{i,0} \n",
    "\\cdot(\\Delta H_i^{\\circ}(T_{ein})-\\Delta H_{i,0}^\\circ))\\\\\n",
    "&&-\n",
    "\\sum\\limits_i\\dot n_{i}\\cdot(\\Delta H_i^{\\circ}(T)-\\Delta H_{i,0}^\\circ) \\\\\n",
    "&&+\\sum\\limits_{j}{\\xi_j \\cdot (-\\Delta Hr_j(T))}\\\\\n",
    "\\end{array}\\\\\n",
    "$"
   ]
  },
  {
   "cell_type": "markdown",
   "metadata": {},
   "source": [
    "Gleichungen: $\\mathcal{C} + \\mathcal{R} + 1$\n",
    "\n",
    "Variablen: $\\mathcal{C}$ ($\\dot n_j$), $\\mathcal{R}$ ($\\xi_j$), $T_2$ \n",
    "\n",
    "$\\Rightarrow$ Durch Einsetzen der Stoffbilanzen in den Gleichgewichtsbedingungen:\n",
    "\n",
    "Gleichungen: $\\mathcal{R} + 1$\n",
    "\n",
    "Variablen: $\\mathcal{R}$ ($\\xi_j$), $T_2$ "
   ]
  },
  {
   "cell_type": "markdown",
   "metadata": {},
   "source": [
    "## 1. Isotherm"
   ]
  },
  {
   "cell_type": "markdown",
   "metadata": {},
   "source": [
    "##### 1. Ansatz, direkte Lösung\n",
    "\n",
    "f ($\\mathcal{R}\\times1$)\n",
    "===\n",
    "\n",
    "$\\begin{array}{llll}\n",
    "0 &= -K_{i}(T)\\cdot p^{-\\sum\\limits_{j}^{\\mathcal C}{\\nu_{ij}}} + \\prod\\limits_{j}^{\\mathcal C}{\\left(\\frac{\\dot n_{j, 0} + \\sum\\limits_{i}^{\\mathcal R}{\\nu_{ij} \\cdot \\xi_i}}{\\sum\\limits_j^{\\mathcal{C}}\\dot n_{j, 0} + \\sum\\limits_{j}^{\\mathcal{C}}\\sum\\limits_{i}^{\\mathcal R}{\\nu_{ij} \\cdot \\xi_i}}\\right)^{\\nu_{ij}}}\\\\\n",
    "\\end{array}$\n",
    "\n",
    "jac ($\\mathcal{R} \\times \\mathcal{R}$)\n",
    "===\n",
    "\n",
    "$\\begin{array}{ll}\n",
    "{{\\partial f_j}\\over{\\partial \\xi_i}}=&\\prod\\limits_{k}^{\\mathcal C}{\\left(\\frac{\\dot n_{k, 0} + \\sum\\limits_{j}^{\\mathcal R}{\\nu_{jk} \\cdot \\xi_j}}{\\sum\\limits_k^{\\mathcal{C}}\\dot n_{k, 0} + \\sum\\limits_{k}^{\\mathcal{C}}\\sum\\limits_{j}^{\\mathcal R}{\\nu_{jk} \\cdot \\xi_j}}\\right)^{\\nu_{ij}}} \\cdot \\left[\\sum\\limits_k^{\\mathcal{C}}\\frac{\\nu_{i k} \\nu_{j k}}{\\dot n_{k, 0} + \\sum\\limits_{j}^{\\mathcal R}{\\nu_{jk} \\cdot \\xi_j}} -\\frac{\\left(\\sum\\limits_k^{\\mathcal C}\\nu_{ik}\\right)\\cdot\\left(\\sum\\limits_k^{\\mathcal C}\\nu_{jk}\\right)}{\\sum\\limits_k^{\\mathcal{C}}\\dot n_{k, 0} + \\sum\\limits_{k}^{\\mathcal{C}}\\sum\\limits_{j}^{\\mathcal R}{\\nu_{jk} \\cdot \\xi_j}}\\right]\\\\\n",
    "\\end{array}$"
   ]
  },
  {
   "cell_type": "markdown",
   "metadata": {},
   "source": [
    "##### 2. Ansatz, Gleichgewichtsabstände\n",
    "Division durch Null vermeiden. $\\mathcal S: \\text{Substrate} (\\nu_{ij}<0), \\mathcal P: \\text{Produkte} (\\nu_{ij}>0), \\mathcal C: \\text{Komponente} \\\\ \\mathcal C=\\mathcal S+\\mathcal P$.\n",
    "\n",
    "f ($\\mathcal{R}\\times1$)\n",
    "===\n",
    "\n",
    "$\\begin{array}{ll}\n",
    "0 &= \\left[K_{i}(T)\\cdot p^{-\\sum\\limits_{j}^{\\mathcal C}{\\nu_{ij}}}\\right]\\cdot n_T^{\\sum\\limits_{j}^{\\mathcal C}{\\nu_{ij}}}\\cdot\\prod\\limits_{j}^{\\mathcal S}n_j^{-\\nu_{ij}} - \\prod\\limits_{j}^{\\mathcal P}n_j^{\\nu_{ij}}\\\\\n",
    "n_j &= \\dot n_{j, 0} + \\sum\\limits_{i}^{\\mathcal R}{\\nu_{ij} \\cdot \\xi_i}\\\\\n",
    "n_T & =\\sum\\limits_j^{\\mathcal{C}}\\dot n_{j, 0} + \\sum\\limits_{j}^{\\mathcal{C}}\\sum\\limits_{i}^{\\mathcal R}{\\nu_{ij} \\cdot \\xi_i}\\\\\n",
    "\\end{array}$\n",
    "\n",
    "jac ($\\mathcal{R} \\times \\mathcal{R}$)\n",
    "===\n",
    "\n",
    "$\\begin{array}{ll}\n",
    "{{\\partial f_j}\\over{\\partial \\xi_i}}=&-\\left[K_{j}(T)\\cdot p^{-\\sum\\limits_{k}^{\\mathcal C}{\\nu_{jk}}}\\right]\\cdot n_T^{\\sum\\limits_{k}^{\\mathcal C}{\\nu_{jk}}}\\cdot\\prod\\limits_{k}^{\\mathcal S}n_k^{-\\nu_{jk}}\\cdot\\left[\\left(\\sum\\limits_k^{\\mathcal{S}}\\frac{\\nu_{i k} \\nu_{j k}}{n_k}\\right)- \\frac{\\left(\\sum\\limits_k{\\nu_{jk}}\\right)\\cdot\\left(\\sum\\limits_k{\\nu_{ik}}\\right)}{n_T}\\right] \\\\\n",
    "&-\\prod\\limits_{k}^{\\mathcal P}n_k^{+\\nu_{jk}}\\cdot \\left(\\sum\\limits_k^{\\mathcal{P}}\\frac{\\nu_{i k} \\nu_{j k}}{n_k}\\right)\\\\\n",
    "\\end{array}$"
   ]
  },
  {
   "cell_type": "markdown",
   "metadata": {},
   "source": [
    "## 2. Adiabat\n",
    "\n",
    "f ($(\\mathcal{R +1 })\\times1$)\n",
    "===\n",
    "\n",
    "$\\begin{array}{llll}\n",
    "f_j &= 0 =& -K_{y,i}(T) + \\prod\\limits_{j}^{\\mathcal C}{\\left(\\frac{\\dot n_{j, 0} + \\sum\\limits_{i}^{\\mathcal R}{\\nu_{ij} \\cdot \\xi_i}}{\\sum\\limits_j^{\\mathcal{C}}\\dot n_{j, 0} + \\sum\\limits_{j}^{\\mathcal{C}}\\sum\\limits_{i}^{\\mathcal R}{\\nu_{ij} \\cdot \\xi_i}}\\right)^{\\nu_{ij}}}\\\\\n",
    "f_q &=  0 =& + \\sum\\limits_i^{\\mathcal{C}}\\dot n_{i,0} \n",
    "\\cdot(\\Delta H_i^{\\circ}(T_{ein})-\\Delta H_{i,0}^\\circ))\\\\\n",
    "&&-\\sum\\limits_j^{\\mathcal{C}} (\\dot n_{j, 0} + \n",
    "\\sum\\limits_{i}^{\\mathcal R}{\\nu_{ij} \\cdot \\xi_i})\n",
    "\\cdot(\\Delta H_j^{\\circ}(T_2)-\\Delta H_{j,0}^\\circ) \\\\\n",
    "&&+\\sum\\limits_{i}^{\\mathcal R}{\\xi_i \\cdot (-\\Delta Hr_i(T_2))}\\\\\n",
    "\\end{array}$\n",
    "\n",
    "jac ($(\\mathcal{R +1 }) \\times (\\mathcal{R +1 })$)\n",
    "===\n",
    "\n",
    "$\\begin{array}{ll}\n",
    "{{\\partial f_j}\\over{\\partial \\xi_i}}=&\\prod\\limits_{k}^{\\mathcal C}{\\left(\\frac{\\dot n_{k, 0} + \\sum\\limits_{j}^{\\mathcal R}{\\nu_{jk} \\cdot \\xi_j}}{\\sum\\limits_k^{\\mathcal{C}}\\dot n_{k, 0} + \\sum\\limits_{k}^{\\mathcal{C}}\\sum\\limits_{j}^{\\mathcal R}{\\nu_{jk} \\cdot \\xi_j}}\\right)^{\\nu_{ij}}} \\cdot \\left[\\sum\\limits_k^{\\mathcal{C}}\\frac{\\nu_{i k} \\nu_{j k}}{\\dot n_{k, 0} + \\sum\\limits_{j}^{\\mathcal R}{\\nu_{jk} \\cdot \\xi_j}} -\\frac{\\left(\\sum\\limits_k^{\\mathcal C}\\nu_{ik}\\right)\\cdot\\left(\\sum\\limits_k^{\\mathcal C}\\nu_{jk}\\right)}{\\sum\\limits_k^{\\mathcal{C}}\\dot n_{k, 0} + \\sum\\limits_{k}^{\\mathcal{C}}\\sum\\limits_{j}^{\\mathcal R}{\\nu_{jk} \\cdot \\xi_j}}\\right]\\\\\n",
    "{{\\partial f_j}\\over{\\partial T_2}}=&0\\\\\n",
    "{{\\partial f_q}\\over{\\partial \\xi_i}}=&\n",
    "-\\sum\\limits_j^{\\mathcal{C}} (\\nu_{ij})\n",
    "\\cdot(\\Delta H_j^{\\circ}(T_2)-\\Delta H_{j,0}^\\circ) \\\\\n",
    "&+{(-\\Delta Hr_i(T_2))}\\\\\n",
    "{{\\partial f_q}\\over{\\partial T_2}}=&\n",
    "- \\left(\\dot n_{k, 0} + \\sum\\limits_{j}^{\\mathcal R}{\\nu_{jk} \\cdot \\xi_j}\\right)\n",
    "\\cdot \\left(\\frac{\\partial \\Delta H_j^{\\circ}(T_2)}{\\partial T_2}\\right)\\\\\n",
    "&+ \\sum\\limits_j^{\\mathcal R}\\xi_j \\cdot \n",
    "\\left(-\\frac{\\partial \\Delta Hr_i(T_2))}{\\partial T_2}\\right)\\\\\n",
    "\\left(\\frac{\\partial \\Delta H_j^{\\circ}(T_2)}{\\partial T_2}\\right)=& \n",
    "\\left(\\frac{Cp^{ig}(T_2)}{R}\\right) \\\\\n",
    "\\left(\\frac{\\partial \\Delta Hr_i(T_2))}{\\partial T_2}\\right) =& \n",
    "\\left(\\frac{\\Delta Cp^{ig}(T_2)}{R}\\right)\\\\\n",
    "\\end{array}$"
   ]
  },
  {
   "cell_type": "code",
   "execution_count": 2,
   "metadata": {},
   "outputs": [
    {
     "name": "stdout",
     "output_type": "stream",
     "text": [
      "========================================\n",
      "Dampf-Reformierung: Vorwärmer + Reaktor\n",
      "========================================\n",
      "Vormärmer (auf T= 1268.15 °K), Q: 801968,17827294685412 kW\n",
      "Isothermisch betriebener Reaktor, Q: 735957,87666983855888 kW\n",
      "Totale zu tauschende Energie, Q: 1537926,0549427850638 kW\n",
      "\n",
      "n_{CO}=13627,00307852392325 kmol/h\n",
      "n_{H2}=57735,289602621829545 kmol/h\n",
      "n_{CO2}=5807,9721354240828077 kmol/h\n",
      "n_{H2O}=41048,122880921349861 kmol/h\n",
      "n_{CH4}=565,02478605199610229 kmol/h\n",
      "n_{NH3}=57,691962901886448378 kmol/h\n",
      "n_{AR}=150 kmol/h\n",
      "n_{O2}=4,4648848532848059989 kmol/h\n",
      "n_{N2}=11671,154018549057582 kmol/h\n",
      "n_T=130666,72334984742338 kmol/h\n",
      "\n",
      "y_{CO}=0,10428824362602978626\n",
      "y_{H2}=0,44185151446739212577\n",
      "y_{CO2}=0,04444874706067131892\n",
      "y_{H2O}=0,31414366128259757494\n",
      "y_{CH4}=0,0043241674051869901513\n",
      "y_{NH3}=0,00044151993271784921663\n",
      "y_{AR}=0,0011479586856891605372\n",
      "y_{O2}=3,4170022319535108804e-05\n",
      "y_{N2}=0,089320017517395600137\n",
      "\n",
      "T: 1268.15 °K\n",
      "p: 35 bar\n",
      "H: -72383578.843040 J/kmol\n",
      "\n",
      "\n",
      "\n",
      "\n",
      "\n",
      "Gesamtfehler: 2.81700342147e-05\n",
      "========================================\n",
      "\n",
      "\n",
      "========================================\n",
      "Wassergashift: Vorkühler + Reaktor\n",
      "========================================\n"
     ]
    },
    {
     "name": "stderr",
     "output_type": "stream",
     "text": [
      "C:\\Users\\ssv\\git\\walas\\bsp_pat_ue_03_2.py:331: RuntimeWarning: invalid value encountered in double_scalars\n",
      "  pip[j] = pip[j] * n[k_st]**abs(nujk)\n"
     ]
    },
    {
     "name": "stdout",
     "output_type": "stream",
     "text": [
      "Vorkühler (auf T= 483.15 °K), Q: -985376,03321955213323 kW\n",
      "Isothermisch betriebener Reaktor, Q: -1012192,7587255820399 kW\n",
      "Totale zu tauschende Energie, Q: -1997568,7919451333582 kW\n",
      "\n",
      "n_{CO}=0,023729039011523126584 kmol/h\n",
      "n_{H2}=171,66878869886696179 kmol/h\n",
      "n_{CO2}=1634,0894474330712001 kmol/h\n",
      "n_{H2O}=63031,797376094844367 kmol/h\n",
      "n_{CH4}=18365,88682352791875 kmol/h\n",
      "n_{NH3}=43,173458766962781397 kmol/h\n",
      "n_{AR}=150 kmol/h\n",
      "n_{O2}=0 kmol/h\n",
      "n_{N2}=11678,413270616518275 kmol/h\n",
      "n_T=95075,052894177191774 kmol/h\n",
      "\n",
      "y_{CO}=2,4958218048991899509e-07\n",
      "y_{H2}=0,001805613391453402862\n",
      "y_{CO2}=0,017187363011534541324\n",
      "y_{H2O}=0,66296883837921249949\n",
      "y_{CH4}=0,1931725122884756507\n",
      "y_{NH3}=0,00045409870889071999797\n",
      "y_{AR}=0,0015777009366164300528\n",
      "y_{O2}=0\n",
      "y_{N2}=0,1228336237016361826\n",
      "\n",
      "T: 483.15 °K\n",
      "p: 35 bar\n",
      "H: -175118206.258475 J/kmol\n",
      "\n",
      "\n",
      "\n",
      "\n",
      "\n",
      "Gesamtfehler: 3.28551539865e-16\n",
      "========================================\n"
     ]
    }
   ],
   "source": [
    "import bsp_pat_ue_03_2"
   ]
  }
 ],
 "metadata": {
  "kernelspec": {
   "display_name": "Python 3",
   "language": "python",
   "name": "python3"
  },
  "language_info": {
   "codemirror_mode": {
    "name": "ipython",
    "version": 3
   },
   "file_extension": ".py",
   "mimetype": "text/x-python",
   "name": "python",
   "nbconvert_exporter": "python",
   "pygments_lexer": "ipython3",
   "version": "3.6.3"
  }
 },
 "nbformat": 4,
 "nbformat_minor": 2
}

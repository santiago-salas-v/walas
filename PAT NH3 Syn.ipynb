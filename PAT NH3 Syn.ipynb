{
 "cells": [
  {
   "cell_type": "markdown",
   "metadata": {},
   "source": [
    "f\n",
    "===\n",
    "\n",
    "$\\begin{array}{llll}\n",
    "0 &= -n_i + \\sum\\limits_{j}^{\\mathcal C}{\\nu_{ij} \\cdot \\xi_j}& \\quad &\\mathcal{C}\\\\ \n",
    "0 &= K_j(T) \\cdot \\sum\\limits_{i}^{\\mathcal C}{n_i} - \\prod\\limits_{i}^{\\mathcal C}{n_i^{\\nu_{ij}}} &\\quad& \\mathcal{R} \\\\\n",
    "&&& \\overline{\\mathcal{C}+\\mathcal{R}}\\\\\n",
    "\\end{array}$\n",
    "\n",
    "jac\n",
    "===\n",
    "\n",
    "$\\begin{array}{ll}\n",
    "{{\\partial f_{i}}\\over{\\partial n_i}}=&-1\\\\\n",
    "{{\\partial f_{i}}\\over{\\partial n_{j\\neq i}}}=&0\\\\\n",
    "{{\\partial f_{i}}\\over{\\partial \\xi_j}}=&\\nu_{ij}\\\\\n",
    "{{\\partial f_{j+\\mathcal C}}\\over{\\partial n_j}}=&\\left(\\sum\\limits_i\\nu_{ij} \\right)\\cdot \\sum\\limits_{i}{n_i}^{\\left(\\left(\\sum\\limits_i\\nu_{ij}\\right)-1\\right)}\\cdot K_j - {\\nu_{ij}\\over{n_i}}\\cdot \\prod\\limits_{i}{n_i^{\\nu_{ij}}}\\\\\n",
    "\\end{array}$"
   ]
  },
  {
   "cell_type": "code",
   "execution_count": null,
   "metadata": {},
   "outputs": [],
   "source": [
    "import bsp_pat_ue_03_2"
   ]
  }
 ],
 "metadata": {
  "kernelspec": {
   "display_name": "Python 3",
   "language": "python",
   "name": "python3"
  },
  "language_info": {
   "codemirror_mode": {
    "name": "ipython",
    "version": 3
   },
   "file_extension": ".py",
   "mimetype": "text/x-python",
   "name": "python",
   "nbconvert_exporter": "python",
   "pygments_lexer": "ipython3",
   "version": "3.6.3"
  }
 },
 "nbformat": 4,
 "nbformat_minor": 2
}

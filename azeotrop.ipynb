{
 "cells": [
  {
   "cell_type": "markdown",
   "metadata": {},
   "source": [
    "# TTP-Ü 11"
   ]
  },
  {
   "cell_type": "code",
   "execution_count": 4,
   "metadata": {},
   "outputs": [
    {
     "name": "stdout",
     "output_type": "stream",
     "text": [
      "It. 0\t x1, y1, x2, y2: ['0.4346', '0.4346', '0.5654', '0.5654']\n",
      "It. 1\t x1, y1, x2, y2: ['0.5681', '0.5681', '0.4319', '0.4319']\n",
      "It. 2\t x1, y1, x2, y2: ['0.618', '0.618', '0.382', '0.382']\n",
      "It. 3\t x1, y1, x2, y2: ['0.6418', '0.6418', '0.3582', '0.3582']\n",
      "It. 4\t x1, y1, x2, y2: ['0.6542', '0.6542', '0.3458', '0.3458']\n",
      "It. 5\t x1, y1, x2, y2: ['0.6609', '0.6609', '0.3391', '0.3391']\n",
      "It. 6\t x1, y1, x2, y2: ['0.6645', '0.6645', '0.3355', '0.3355']\n",
      "It. 7\t x1, y1, x2, y2: ['0.6666', '0.6666', '0.3334', '0.3334']\n",
      "It. 8\t x1, y1, x2, y2: ['0.6677', '0.6677', '0.3323', '0.3323']\n",
      "It. 9\t x1, y1, x2, y2: ['0.6684', '0.6684', '0.3316', '0.3316']\n",
      "It.10\t x1, y1, x2, y2: ['0.6687', '0.6687', '0.3313', '0.3313']\n",
      "It.11\t x1, y1, x2, y2: ['0.6689', '0.6689', '0.3311', '0.3311']\n",
      "It.12\t x1, y1, x2, y2: ['0.669', '0.669', '0.331', '0.331']\n",
      "It.13\t x1, y1, x2, y2: ['0.6691', '0.6691', '0.3309', '0.3309']\n",
      "It.14\t x1, y1, x2, y2: ['0.6691', '0.6691', '0.3309', '0.3309']\n"
     ]
    }
   ],
   "source": [
    "import numpy as np\n",
    "import locale\n",
    "\n",
    "# Sys: (1) Propanol (2) Wasser\n",
    "\n",
    "# Antoine\n",
    "a = np.array([9.003, 8.196])\n",
    "b  = np.array([2010.33, 1730.63])  # °C\n",
    "c = np.array([252.636, 233.426])  # °C\n",
    "\n",
    "# Van Laar\n",
    "c1 = 2.3405\n",
    "c2 = 1.1551\n",
    "\n",
    "x10 = 0.1\n",
    "t0 = 100\n",
    "x1 = x10\n",
    "t = t0\n",
    "x2 = 1-x1\n",
    "p = 1000. # mbar\n",
    "f = np.nan\n",
    "\n",
    "tol = 1e-10\n",
    "it = 15\n",
    "\n",
    "for i in range(it):\n",
    "    gamma1 = np.exp(c1*c2**2*x2**2/(x1*c1+x2*c2)**2)\n",
    "    gamma2 = np.exp(c1**2*c2*x1**2/(x1*c1+x2*c2)**2)\n",
    "    f = -1 + gamma1 * x1 * p1s/p + gamma2 * x2 * p2s/p\n",
    "    while f > tol:\n",
    "        print('TL, f: '+str([locale.format('%0.4g', item) \n",
    "                              for item in [t, f]]))\n",
    "        p1s, p2s = 10**(a-b/(c+t))\n",
    "        f = -1 + gamma1 * x1 * p1s/p + gamma2 * x2 * p2s/p\n",
    "        df = gamma1 * x1 * p1s/p * b[0]*np.log(10) /(\n",
    "            (t + c[0])**2\n",
    "        ) + gamma2 * x2 * p2s/p * b[1]*np.log(10) /(\n",
    "            (t + c[1])**2\n",
    "        )\n",
    "        t = t -1/df * f\n",
    "    \n",
    "    y1 = gamma1 * x1 * p1s / p\n",
    "    y2 = 1-y1\n",
    "    x1 = y1\n",
    "    x2 = y2\n",
    "    print('It.'+locale.format('%2i', i)+'\\t'+\n",
    "          ' x1, y1, x2, y2: '+str([locale.format('%0.4g', item) \n",
    "                              for item in [x1,y1,x2,y2]]))\n"
   ]
  }
 ],
 "metadata": {
  "kernelspec": {
   "display_name": "Python 3",
   "language": "python",
   "name": "python3"
  },
  "language_info": {
   "codemirror_mode": {
    "name": "ipython",
    "version": 3
   },
   "file_extension": ".py",
   "mimetype": "text/x-python",
   "name": "python",
   "nbconvert_exporter": "python",
   "pygments_lexer": "ipython3",
   "version": "3.8.5"
  }
 },
 "nbformat": 4,
 "nbformat_minor": 4
}

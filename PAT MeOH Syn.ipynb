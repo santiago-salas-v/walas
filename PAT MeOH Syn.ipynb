{
 "cells": [
  {
   "cell_type": "code",
   "execution_count": 34,
   "metadata": {},
   "outputs": [
    {
     "name": "stdout",
     "output_type": "stream",
     "text": [
      "-90410.0\n",
      "-49270.0\n",
      "-41140.0\n",
      "0.00300546664952\n",
      "0.000650510159013\n",
      "4.62016865974\n"
     ]
    },
    {
     "data": {
      "text/plain": [
       "array([  1.67442275e+01,   1.72453098e+01,   4.88351580e+00,\n",
       "         5.20043771e+00,   3.86733404e+01,  -2.36009010e+05,\n",
       "         2.36047701e+05,   2.36042422e+05])"
      ]
     },
     "execution_count": 34,
     "metadata": {},
     "output_type": "execute_result"
    }
   ],
   "source": [
    "from scipy import optimize\n",
    "import numpy as np\n",
    "\n",
    "p = 50.0 # bar\n",
    "temp = 273.15 + 220. # K\n",
    "r = 8.314 # J/(mol K)\n",
    "\n",
    "n0co = 50.\n",
    "n0h2 = 100.\n",
    "n0co2 = 10.\n",
    "n0h2o = 0.\n",
    "n0ch3oh = 0.\n",
    "\n",
    "delta_h_1_298 = (-(-110.53) -2*0 + -200.94)*1000\n",
    "delta_h_2_298 = (-(-393.50) -3*0 + -200.94 + -241.83)*1000\n",
    "delta_h_3_298 = (-(-110.53) -(-241.83) + -393.50 + 0)*1000\n",
    "\n",
    "delta_g_1_298 = (-(-137.20) -2*0 + -162.32)*1000\n",
    "delta_g_2_298 = (-(-394.36) -3*0 + -162.32 + -228.62)*1000\n",
    "delta_g_3_298 = (-(-137.20) -(-228.62) + -394.36 + 0)*1000\n",
    "\n",
    "print delta_h_1_298\n",
    "print delta_h_2_298\n",
    "print delta_h_3_298\n",
    "\n",
    "k1_298 = np.exp(-delta_g_1_298/(r*temp))\n",
    "k2_298 = np.exp(-delta_g_2_298/(r*temp))\n",
    "k3_298 = np.exp(-delta_g_3_298/(r*temp))\n",
    "\n",
    "# Angenommen, dass Delta_H fast im Interval zwischen 298.15K und 443.15K \n",
    "# unabhängig von der Temperatur sei...\n",
    "k1_443 = k1_298 * np.exp(-delta_h_1_298/8.314*( 1/443.15 - 1/298.15 ))\n",
    "k2_443 = k2_298 * np.exp(-delta_h_2_298/8.314*( 1/443.15 - 1/298.15 ))\n",
    "k3_443 = k3_298 * np.exp(-delta_h_3_298/8.314*( 1/443.15 - 1/298.15 ))\n",
    "\n",
    "for f in [k1_443, k2_443, k3_443]:\n",
    "    print f\n",
    "\n",
    "def fun(x_vec):    \n",
    "    nco = x_vec[0]\n",
    "    nh2 = x_vec[1]\n",
    "    nco2 = x_vec[2]\n",
    "    nh2o = x_vec[3]\n",
    "    nch3oh = x_vec[4]\n",
    "    xi1 = x_vec[5]\n",
    "    xi2 = x_vec[6]\n",
    "    xi3 = x_vec[7]\n",
    "    \n",
    "    f1 = -nco + n0co - xi1 +0 -xi3\n",
    "    f2 = -nh2  + n0h2 -2*xi1 -3*xi2 +xi3\n",
    "    f3 = -nco2 + n0co2 +0 -xi2 +xi3\n",
    "    f4 = -nh2o + n0h2o +0 +xi2 -xi3\n",
    "    f5 = -nch3oh + n0ch3oh +xi1 +xi2 -0\n",
    "    f6 = -k1_443 + nch3oh / (nco * nh2) * (p/1.)**-2\n",
    "    f7 = -k2_443 + nch3oh * nh2o / (nco2 * nh2**2) * (p/1.)**-2\n",
    "    f8 = -k3_443 + nco2 * nh2 / (nco * nh2o) * (p/1.)**0\n",
    "    \n",
    "    return [f1, f2, f3, f4, f5, f6, f7, f8]\n",
    "\n",
    "sol = optimize.root(fun, np.ones([8,1])*0.01)\n",
    "sol.x"
   ]
  }
 ],
 "metadata": {
  "kernelspec": {
   "display_name": "Python 2",
   "language": "python",
   "name": "python2"
  },
  "language_info": {
   "codemirror_mode": {
    "name": "ipython",
    "version": 2
   },
   "file_extension": ".py",
   "mimetype": "text/x-python",
   "name": "python",
   "nbconvert_exporter": "python",
   "pygments_lexer": "ipython2",
   "version": "2.7.11"
  }
 },
 "nbformat": 4,
 "nbformat_minor": 2
}

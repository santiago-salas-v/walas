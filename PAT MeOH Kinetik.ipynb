{
 "cells": [
  {
   "cell_type": "markdown",
   "metadata": {},
   "source": [
    "### Vanden Bussche, Fromment 1995"
   ]
  },
  {
   "cell_type": "code",
   "execution_count": 131,
   "metadata": {},
   "outputs": [
    {
     "name": "stdout",
     "output_type": "stream",
     "text": [
      "Tabelle 8 Kp(RWGS)\n",
      "467K. Berechnet 1.54e+00\tArtikel 1.69e+00\n",
      "489K. Berechnet 1.84e+00\tArtikel 2.04e+00\n",
      "522K. Berechnet 2.34e+00\tArtikel 2.64e+00\n",
      "511K. Berechnet 2.16e+00\tArtikel 2.43e+00\n",
      "360K. Berechnet 5.42e-01\tArtikel 5.69e-01\n",
      "381K. Berechnet 6.86e-01\tArtikel 7.24e-01\n",
      "404K. Berechnet 8.70e-01\tArtikel 9.28e-01\n"
     ]
    },
    {
     "data": {
      "image/png": "[encoded data removed]",
      "text/plain": [
       "<matplotlib.figure.Figure at 0x18f86e53a20>"
      ]
     },
     "metadata": {},
     "output_type": "display_data"
    }
   ],
   "source": [
    "import numpy as np\n",
    "import matplotlib.pyplot as plt\n",
    "from scipy import integrate\n",
    "from tc_lib import *\n",
    "%matplotlib inline\n",
    "plt.style.use('seaborn-deep')\n",
    "\n",
    "# Stoechiometrische Koeffizienten\n",
    "nuij = np.zeros([len(namen), 3])\n",
    "# Hydrierung von CO2\n",
    "nuij[[\n",
    "    namen.index('CO2'),\n",
    "    namen.index('H2'),\n",
    "    namen.index('CH3OH'),\n",
    "    namen.index('H2O'),\n",
    "    namen.index('CO'),\n",
    "],0] = np.array([-1, -3, +1, +1, 0], dtype=float)\n",
    "# Hydrierung von CO\n",
    "nuij[[\n",
    "    namen.index('CO2'),\n",
    "    namen.index('H2'),\n",
    "    namen.index('CH3OH'),\n",
    "    namen.index('H2O'),\n",
    "    namen.index('CO'),\n",
    "],1] = np.array([0, -2, +1, 0, -1], dtype=float)\n",
    "# RWGS Rückwassergasshiftreaktion\n",
    "nuij[[\n",
    "    namen.index('CO2'),\n",
    "    namen.index('H2'),\n",
    "    namen.index('CH3OH'),\n",
    "    namen.index('H2O'),\n",
    "    namen.index('CO'),\n",
    "],2] = np.array([+1, +1, 0, -1, -1], dtype=float)\n",
    "\n",
    "# T-abhängige Parameter, dem Artikel nach\n",
    "def k_gg(t):\n",
    "    # Geschwindigkeitskonstanten der 3 Reaktionen\n",
    "    k_1 = 10**(3066/t-10.592)\n",
    "    k_2 = 10**(5139/t-12.621)\n",
    "    k_3 = 10**(2073/t-2.029)\n",
    "    # Angepasste Parameter des kinetischen Modells\n",
    "    # A(i) exp(B(i)/RT)\n",
    "    a = np.array([\n",
    "        0.499, 6.62e-11, 3453.38, 1.07, 1.22e-10\n",
    "    ], dtype=float)\n",
    "    b = np.array([\n",
    "        17197, 124119, 0, 36696, -94765\n",
    "    ], dtype=float)\n",
    "    k_h2 = a[0]**2 * np.exp(2 * b[0]/(r * t))\n",
    "    k_h2o = a[1] * np.exp(b[1]/(r * t))\n",
    "    k_h2o_d_k_8_k_9_k_h2 = a[2] * np.exp(b[2]/(r * t))\n",
    "    k5a_k_2_k_3_k_4_k_h2 = a[3] * np.exp(b[3]/(r * t))\n",
    "    k1_strich = a[4] * np.exp(b[4]/(r * t))\n",
    "    return np.array([\n",
    "        k_1, k_2, k_3,\n",
    "        k_h2, k_h2o, k_h2o_d_k_8_k_9_k_h2,\n",
    "        k5a_k_2_k_3_k_4_k_h2, k1_strich\n",
    "    ])\n",
    "\n",
    "# Gleichgewichtskonstanten bei T, berechnet\n",
    "def k_t(t, nuij):\n",
    "    h_t = h(t)\n",
    "    g_t = g(t, h_t)\n",
    "    k_t = k(t, g_t, nuij)\n",
    "    return k_t\n",
    "\n",
    "t = np.linspace(50, 1000, 35) + 273.15\n",
    "fig = plt.figure()\n",
    "ax = fig.add_subplot(111)\n",
    "for i in range(nuij.shape[1]):\n",
    "    ax.plot(1000/t, \n",
    "            [k_t(temp, nuij[:,i]) for temp in t],\n",
    "            'o', label='K_berechnet'+str(i+1))\n",
    "    ax.plot(1000/t, k_gg(t)[i], \n",
    "            '-', label='K_Artikel'+str(i+1))\n",
    "ax.set_yscale('log')\n",
    "ax.set_xlabel(r'$\\frac{1000}{T/K}$')\n",
    "ax.legend()\n",
    "\n",
    "print('Tabelle 8 Kp(RWGS)')\n",
    "for t in np.array([467, 489, 522, 511, 360, 381, 404]):\n",
    "    print(\n",
    "        str(t) + 'K' + '. Berechnet ' +\n",
    "        '{:.2e}'.format(1/k_t(t+273.15, nuij)[2]*10) + \n",
    "        '\\t' + 'Artikel ' +\n",
    "        '{:.2e}'.format(1/k_gg(t+273.15)[2]*10)\n",
    "    )\n",
    "    \n",
    "def r_i(t, p_i):\n",
    "    p_co2 = p[namen.index('CO2')]\n",
    "    p_h2 = p[namen.index('H2')]\n",
    "    p_ch3oh = p[namen.index('CH3OH')]\n",
    "    p_h2o = p[namen.index('H2O')]\n",
    "    [k_1, k_2, k_3, \n",
    "    k_h2, k_h2o, k_h2o_d_k_8_k_9_k_h2, \n",
    "    k5a_k_2_k_3_k_4_k_h2, k1_strich] = k_gg(t)\n",
    "    r_meoh = k5a_k_2_k_3_k_4_k_h2 * p_co2 * p_h2 * (\n",
    "        1 - 1/k_1 * p_h2o * p_ch3oh / (\n",
    "            p_h2**3 * p_co2\n",
    "        )\n",
    "    ) / (\n",
    "        1 + k_h2o_d_k_8_k_9_k_h2 * ph2o / p_h2 + \n",
    "        np.sqrt(k_h2 * p_h2) + k_h20 * p_h2o\n",
    "    )\n",
    "    r_rwgs = k1_strich * p_co2 * (\n",
    "        1 - k_3 * p_h2o * p_co / (p_co2 * p_h2) /(\n",
    "            1 + k_h2o_d_k_8_k_9_k_h2 * p_h2o / p_h2 +\n",
    "            np.sqrt(k_h2 * p_h2) + k_h2o * p_h2o\n",
    "        )\n",
    "    )\n",
    "    return np.array([r_meoh, r_rwgs])"
   ]
  },
  {
   "cell_type": "markdown",
   "metadata": {},
   "source": [
    "#### Umformung auf Aspen-Form"
   ]
  },
  {
   "cell_type": "code",
   "execution_count": 160,
   "metadata": {},
   "outputs": [
    {
     "name": "stdout",
     "output_type": "stream",
     "text": [
      "1.65*np.exp(-(-94765)/8.3145/501.57)/1e10=1.2198\n",
      "\n",
      "k5a_k_2_k_3_k_4_k_h2:\n",
      "A_Asp=ln(A/1000)=-6.8401\n",
      "B_Asp=B/R=4413.49K\n",
      "k5a_k_2_k_3_k_4_k_h2 / k_1:\n",
      "A_Asp=ln(A/1000)-C ln(10)=17.5489\n",
      "B_Asp=B/R-D ln(10)=-2646.23K\n",
      "\n",
      "k1_strich:\n",
      "A_Asp=ln(A/1000)=16.3169\n",
      "B_Asp=B/R=-11397.6K\n",
      "k1_strich * k_3:\n",
      "A_Asp=ln(A/1000)+C ln(10)=11.645\n",
      "B_Asp=B/R+D ln(10)=-6624.3K\n",
      "\n",
      "k_h2o_d_k_8_k_9_k_h2:\n",
      "A_Asp=ln(A)=8.14711\n",
      "B_Asp=B/R=0K\n",
      "\n",
      "k_h2^(1/2):\n",
      "A_Asp=ln(A)=-0.695149\n",
      "B_Asp=B/R=2068.31K\n",
      "\n",
      "k_h2o:\n",
      "A_Asp=ln(A)=-23.4383\n",
      "B_Asp=B/R=14928K\n"
     ]
    }
   ],
   "source": [
    "print('1.65*np.exp(-(-94765)/8.3145/501.57)/1e10=' + \n",
    "      '{:g}'.format(1.65*np.exp(-(-94765)/8.3145/501.57)/1e10))\n",
    "a = np.array([\n",
    "        0.499, 6.62e-11, 3453.38, 1.07, 1.22e10\n",
    "    ], dtype=float)\n",
    "b = np.array([\n",
    "    17197, 124119, 0, 36696, -94765\n",
    "], dtype=float)\n",
    "print('')\n",
    "print('k5a_k_2_k_3_k_4_k_h2:')\n",
    "print('A_Asp=ln(A/1000)=' + '{:g}'.format(np.log(a[3]/1000.)))\n",
    "print('B_Asp=B/R=' + '{:g}'.format(b[3]/8.3145)+'K')\n",
    "print('k5a_k_2_k_3_k_4_k_h2 / k_1:')\n",
    "print('A_Asp=ln(A/1000)-C ln(10)=' + \n",
    "      '{:g}'.format(np.log(a[3]/1000.)-(-10.592*np.log(10))))\n",
    "print('B_Asp=B/R-D ln(10)=' + \n",
    "      '{:g}'.format(b[3]/8.3145 - 3066*np.log(10))+'K')\n",
    "print('')\n",
    "print('k1_strich:')\n",
    "print('A_Asp=ln(A/1000)=' + '{:g}'.format(np.log(a[4]/1000.)))\n",
    "print('B_Asp=B/R=' + '{:g}'.format(b[4]/8.3145)+'K')\n",
    "print('k1_strich * k_3:')\n",
    "print('A_Asp=ln(A/1000)+C ln(10)=' + \n",
    "      '{:g}'.format(np.log(a[4]/1000.)+(-2.029*np.log(10))))\n",
    "print('B_Asp=B/R+D ln(10)=' + \n",
    "      '{:g}'.format(b[4]/8.3145 + 2073*np.log(10))+'K')\n",
    "print('')\n",
    "print('k_h2o_d_k_8_k_9_k_h2:')\n",
    "print('A_Asp=ln(A)=' + '{:g}'.format(np.log(a[2])))\n",
    "print('B_Asp=B/R=' + '{:g}'.format(b[2]/8.3145)+'K')\n",
    "print('')\n",
    "print('k_h2^(1/2):')\n",
    "print('A_Asp=ln(A)=' + '{:g}'.format(np.log(a[0])))\n",
    "print('B_Asp=B/R=' + '{:g}'.format(b[0]/8.3145)+'K')\n",
    "print('')\n",
    "print('k_h2o:')\n",
    "print('A_Asp=ln(A)=' + '{:g}'.format(np.log(a[1])))\n",
    "print('B_Asp=B/R=' + '{:g}'.format(b[1]/8.3145)+'K')"
   ]
  },
  {
   "cell_type": "markdown",
   "metadata": {},
   "source": [
    "## Umformung auf Hysys-Form\n",
    "$r[=]\\frac{mol}{kg_{Kat}\\cdot s} \\quad r_{Hysys}[=]\\frac{kgmol}{m^3_{Gas} \\cdot s}$\n",
    "\n",
    "$\\begin{array}{ccl}\n",
    "\\phi &[=]& \\frac{m^3_{Gas}}{m^3_{Kat, Schüttung}}=\\frac{m^3_{Gas}}{m^3_{Kat}+m^3_{Gas}}\\\\\n",
    "1-\\phi &[=]& \\frac{m^3_{Kat}}{m^3_{Kat, Schüttung}}=\\frac{m^3_{Kat}}{m^3_{Kat}+m^3_{Gas}}\\\\\n",
    "\\rho_b &[=]& \\frac{kg_{Kat}}{m^3_{Kat, Schüttung}}=\\frac{kg_{Kat}}{m^3_{Kat}+m^3_{Gas}}\\\\\n",
    "\\rho_c &[=]& \\frac{kg_{Kat}}{m^3_{Kat}}\\\\\n",
    "\\Rightarrow \\rho_b &=&  (1-\\phi)\\rho_c\\\\\n",
    "\\Rightarrow r_{Hysys} &=& r\\cdot \\left( \\frac{1-\\phi}{\\phi}\\right)\\rho_c\n",
    "\\end{array}$\n",
    "\n",
    "**Kinetik-Ausdrücke**, aus Van den Bussche-Froment, auf $Cu/ZnO/Al_2O_3$ Katalysator\n",
    "\n",
    "$p_i$ hier eigentlich: $p_i/p^{\\circ}$ , $p^{\\circ}=1bar$. Es heißt, $r_{MeOH}$ hat die Einheiten $r_{MeOH}[=]k_{5a}'=k_{5a}c_t^2=\\frac{mol}{kg_{Kat}\\cdot s}$, und die Reaktionsquotienten haben keine Einheiten.\n",
    "\n",
    "$r_{MeOH}=\\frac{k_{5a}' K_2' K_3 K_4 K_{H_2} p_{CO_2}p_{H_2}\\left(1-\\frac{1}{K_1^*}\\cdot\\frac{p_{H_2O}\\cdot p_{MeOH}}{p_{H_2}^3\\cdot p_{CO_2}}\\right)}{\\left(1+\\left(\\frac{K_{H_2O}}{K_8 K_9 K_{H_2}}\\right)\\frac{p_{H_2O}}{p_{H_2}}+\\sqrt{K_{H_2}\\cdot p_{H2}}+K_{H_2O}\\cdot p_{H_2O}\\right)^3}$\n",
    "\n",
    "$r_{RWGS}=\\frac{k_1' p_{CO_2}\\left(1-K_3^*\\cdot\\frac{p_{H_2O}\\cdot p_{CO}}{p_{H_2}\\cdot p_{CO_2}}\\right)}{\\left(1+\\left(\\frac{K_{H_2O}}{K_8 K_9 K_{H_2}}\\right)\\frac{p_{H_2O}}{p_{H_2}}+\\sqrt{K_{H_2}\\cdot p_{H2}}+K_{H_2O}\\cdot p_{H_2O}\\right)}$\n",
    "\n",
    "Umformung der Geschwindigkeitskonstanten von der Form im Artikel auf die Form \n",
    "in Hysys:\n",
    "\n",
    "$k = A \\cdot exp\\left(\\frac{-E}{R T}\\right)*T^\\beta$\n",
    "\n",
    "* $r_{MeOH}$, Vorwärtsreation\n",
    "\n",
    "im Artikel (Tabelle 1):\n",
    "\n",
    "$k(i) = A(i) \\cdot exp\\left(\\frac{B(i)}{R T}\\right)$\n",
    "\n",
    "$\\begin{align}\n",
    "k_{5a}' K_2' K_3 K_4 K_{H_2} &=7070,34 \\cdot e^{\\frac{-36696}{8,3145\\cdot501,57}} \\frac{mol}{kg_{Kat}\\cdot s} \\cdot exp\\left(\\frac{\\frac{36,696 J/mol}{8,3145 J/(mol K)}}{ T}\\right) \\\\\n",
    "& = 1,066\\frac{mol}{kg_{Kat}\\cdot s} \\cdot exp\\left(\\frac{4413,49K}{ T}\\right)\n",
    "\\end{align}$\n",
    "\n",
    "Da \n",
    "\n",
    "$r_{MeOH}[=]k_{5a}'=k_{5a}c_t^2=\\frac{mol}{kg_{Kat}\\cdot s} \\quad \\text{ und } \\quad r_{Hysys}[=]\\frac{kgmol}{m^3_{Gas} \\cdot s}$,\n",
    "\n",
    "$\\Rightarrow r_{Hysys, MeOH} = r_{MeOH}\\cdot \\left( \\frac{1-\\phi}{\\phi}\\right)\\rho_c \\cdot \\left(\\frac{1 kgmol}{1000 mol}\\right)$\n",
    "\n",
    "Diese Faktoren werden am Preexponentiellen Faktor des Geschwindigkeits-Ausdrucks übernommen. Z. B. bei $\\phi=0,285$, $\\rho_b=1190\\frac{kg_{Kat}}{m^3_{Kat, Schüttung}}=(1-\\phi)\\rho_c$:\n",
    "\n",
    "$\\begin{align}\n",
    "k_{Vorwärtsreaktion} &=\\\\\n",
    "k_{5a}' K_2' K_3 K_4 K_{H_2} &= 7070,34\\cdot e^{\\frac{-36696}{8,3145\\cdot501,57}}  \\frac{mol}{kg_{Kat}\\cdot s} \\cdot \\left( \\frac{1-\\phi}{\\phi}\\right)\\rho_c \\cdot \\left(\\frac{1 kgmol}{1000 mol}\\right)  \\cdot exp\\left(\\frac{4413,49K}{ T}\\right)\\\\\n",
    "&= 7070,34\\cdot e^{\\frac{-36696}{8,3145\\cdot501,57}}  \\frac{mol}{kg_{Kat}\\cdot s} \\cdot \\left( \\frac{1190\\frac{kg_{Kat}}{m^3_{Kat, Schüttung}}}{0,285\\frac{m^3_{Gas}}{m^3_{Kat, Schüttung}} }\\right) \\cdot \\left(\\frac{1 kgmol}{1000 mol}\\right)  \\cdot exp\\left(\\frac{4413,49K}{ T}\\right)\\\\\n",
    "&= 7070,34\\cdot e^{\\frac{-36696}{8,3145\\cdot501,57}} \\cdot \\frac{1190}{0,285\\cdot 1000} \\frac{kgmol}{m^3_{Gas}\\cdot s} \\cdot exp\\left(\\frac{4413,49K}{ T}\\right)\\\\\n",
    "&= 4,4528 \\frac{kgmol}{m^3_{Gas}\\cdot s} \\cdot exp\\left(\\frac{36696J/mol}{ R T}\\right)\\\\\n",
    "\\end{align}$"
   ]
  },
  {
   "cell_type": "markdown",
   "metadata": {},
   "source": [
    "* $r_{MeOH}$, Rückwärtsreaktion\n",
    "\n",
    "$\\begin{align}\n",
    "k_{Rückwärtsreaktion} &= k_{5a}' K_2' K_3 K_4 K_{H_2} \\cdot \\frac{1}{K_1*} \\\\ &= 7070,34\\cdot e^{\\frac{-36696}{8,3145\\cdot501,57}}\\cdot \\frac{1190}{0,285\\cdot 1000} \\frac{kgmol}{m^3_{Gas}\\cdot s} \\cdot exp\\left(\\frac{36696J/mol}{R T}\\right) \\cdot 10^\\left(-\\frac{3066K}{T}+10,592\\right)\\\\\n",
    "&=7070,34\\cdot e^{\\frac{-36696}{8,3145\\cdot501,57}}\\cdot \\frac{1190}{0,285\\cdot 1000}\\cdot 10^{10,592} \\frac{kgmol}{m^3_{Gas}\\cdot s} \\cdot exp\\left(\\frac{(36696-3066\\cdot ln(10)\\cdot8,3145)J/mol}{R T}\\right)\\\\\n",
    "&=1,740321\\cdot 10^{11} \\frac{kgmol}{m^3_{Gas}\\cdot s} \\cdot exp\\left(\\frac{-22002.09J/mol}{R T}\\right)\\\\\n",
    "\\end{align}$"
   ]
  },
  {
   "cell_type": "markdown",
   "metadata": {},
   "source": [
    "Zusammenfassung der Eingabe von Geschwindigkeitskonstanten aus Tabelle 2 (im Artikel) auf Hysys\n",
    "\n",
    "$r_{MeOH}$ \n",
    "\n",
    "| Geschwindigkeitskonstante | Parameter | Artikel | Hysys-Eingabe | \n",
    "| - | - | - | - |\n",
    "| $k_{5a}' K_2' K_3 K_4 K_{H_2}$ | A(4) |  1,066 $\\frac{mol}{kg_{Kat}\\cdot s}$ |  4,452761 $\\frac{mol}{m^3_{Gas}\\cdot s}$ |\n",
    "| $k_{5a}' K_2' K_3 K_4 K_{H_2}$ | B(4) | 36696 J/mol | -36696 kJ/kgmol |\n",
    "| $k_{5a}' K_2' K_3 K_4 K_{H_2}\\cdot\\frac{1}{K_1}$ | |  $1,066\\cdot10^{10,592}$$ \\frac{mol}{kg_{Kat}\\cdot s}$  | $1,740321\\cdot10^{11}$$\\frac{mol}{m^3_{Gas}\\cdot s}$ |\n",
    "| $k_{5a}' K_2' K_3 K_4 K_{H_2}\\cdot\\frac{1}{K_1}$ | | $(36696-8,3145\\cdot 3066)$ J/mol | -11203,743 kJ/kgmol |\n",
    "\n",
    "$r_{RWGS}$ \n",
    "\n",
    "| Geschwindigkeitskonstante | Parameter | Artikel | Hysys-Eingabe | \n",
    "| - | - | - | - |\n",
    "| $k_1'$ | A(5) |  1,220 $\\frac{mol}{kg_{Kat}\\cdot s}$ | 5,093209e+10 $\\frac{mol}{m^3_{Gas}\\cdot s}$ |\n",
    "| $k_1'$ | B(5) | -94765 J/mol | +94765 kJ/kgmol |\n",
    "| $k_1'\\cdot K_3$ | |  $1,220\\cdot 10^{+2,029}$ $mol/kg_{Kat}/s$ | 4,764217e+08 $\\frac{kgmol}{m^3_{Gas} \\cdot s}$ |\n",
    "| $k_1'\\cdot K_3$ | | $(-94765+8,3145\\cdot 2073)$ J/mol | +77529,04 kJ/kgmol |\n",
    "\n",
    "Adsorptionsterme\n",
    "\n",
    "| Adsorptionsterm | Parameter | Artikel | Hysys-Eingabe | \n",
    "| - | - | - | - |\n",
    "| $\\sqrt{K_{H_2}}$ | A(1) | 30,82 | 30,82 |\n",
    "| $\\sqrt{K_{H_2}}$ | B(1) | 17197 J/mol |  -17197 J/mol |\n",
    "| $K_{H_2O}$ | A(2) |  558,17 | 558,17 |\n",
    "| $K_{H_2O}$ | B(2) | 124119 J/mol | -124119 J/mol |\n",
    "| $\\frac{K_{H_2O}}{K_8 K_9 K_{H2}}$ | A(3) |  3453,38 | 3453,38 |\n",
    "| $\\frac{K_{H_2O}}{K_8 K_9 K_{H2}}$ | B(3) | 0 J/mol | 0 J/mol |"
   ]
  },
  {
   "cell_type": "code",
   "execution_count": 1,
   "metadata": {},
   "outputs": [
    {
     "data": {
      "text/latex": [
       "$\\text{Hohlraumvolumen: } \\phi= 0,3\\\\\\begin{array}{lccccc}\\hline Var & A(i) & A(i)_{Hysys} & B(i) & B(i)_{Hysys} & \\text{Hysys Param}\\\\\\text{Form } K=A(i) \\cdot exp\\left(\\frac{B(i)}{R T}\\right) & \\frac{mol}{kg_{Kat}\\cdot s} & \\frac{mol}{m^3_{Gas}\\cdot s} & \\frac{J}{mol} & \\frac{kJ}{kgmol} & \\text{Form } K=A_{Hysys} \\cdot exp\\left(-\\frac{E_{Hysys}}{R T}\\right) \\\\\\hline \\\\r_{MeOH}\\\\\\\\k_{5a}' K_2' K_3 K_4 K_{H_2}&1,0664174&4,2301225&36696&-36696&k_{Vorwärts}\\\\k_{5a}' K_2' K_3 K_4 K_{H_2}\\cdot \\frac{1}{K_1}&4,1679955e+10&1,6533049e+11&-22002,091&22002,091&k'_{Rückwärts}\\\\\\\\r_{RWGS}\\\\\\\\k_1'&1,2198022e+10&4,8385487e+10&-94765&94765&k_{Vorwärts}\\\\k_1' \\cdot K_3&1,1410099e+08&4,5260059e+08&-55077,739&55077,739&k'_{Rückwärts}\\\\\\\\Adsorptionsterme (\\beta)\\\\\\\\\\sqrt{K_{H_2}}&0,4988167&0,4988167&17197&-17197&K1\\\\K_{H_2O}&6,6228081e-11&6,6228081e-11&124119&-124119&K2\\\\\\frac{K_{H_2O}}{K_8 K_9 K_{H2}}&3453,38&3453,38&   0&   0&K3\\\\\\hline\\end{array}$"
      ],
      "text/plain": [
       "<IPython.core.display.Latex object>"
      ]
     },
     "execution_count": 1,
     "metadata": {},
     "output_type": "execute_result"
    }
   ],
   "source": [
    "import locale\n",
    "import numpy as np\n",
    "from IPython.display import Latex\n",
    "locale.setlocale(locale.LC_ALL, '')\n",
    "\n",
    "phi = 0.3\n",
    "\n",
    "table_latex_str = [\n",
    "    r'\\text{Hohlraumvolumen: } \\phi=', locale.format('%4.8g',phi),\n",
    "    r'\\\\',\n",
    "    r'\\begin{array}{lccccc}',\n",
    "    '\\hline ',\n",
    "    'Var & A(i) & A(i)_{Hysys} & B(i) & B(i)_{Hysys} & ',\n",
    "    r'\\text{Hysys Param}', r'\\\\',\n",
    "    r'\\text{Form } K=A(i) \\cdot exp\\left(\\frac{B(i)}{R T}\\right) ','&',\n",
    "    r' \\frac{mol}{kg_{Kat}\\cdot s} & \\frac{mol}{m^3_{Gas}\\cdot s}',\n",
    "    r' & \\frac{J}{mol} & \\frac{kJ}{kgmol} & ', \n",
    "    r'\\text{Form } K=A_{Hysys} \\cdot exp\\left(-\\frac{E_{Hysys}}{R T}\\right) ', \n",
    "    r'\\\\',\n",
    "    '\\hline ',\n",
    "    r'\\\\','r_{MeOH}', r'\\\\', r'\\\\',\n",
    "    \"k_{5a}' K_2' K_3 K_4 K_{H_2}\", '&',\n",
    "    locale.format('%4.8g', 7070.34*np.exp(-36696/(8.3145*501.57))), '&',\n",
    "    locale.format('%4.8g', 7070.34*np.exp(-36696/(8.3145*501.57)\n",
    "                                           )*1190/phi/1000 ),\n",
    "    '&',\n",
    "    locale.format('%4.8g', 36696), '&', \n",
    "    locale.format('%4.8g', -36696), '&', 'k_{Vorwärts}',\n",
    "    r'\\\\',\n",
    "    r\"k_{5a}' K_2' K_3 K_4 K_{H_2}\\cdot \\frac{1}{K_1}\", '&',\n",
    "    locale.format('%4.8g', 7070.34*\n",
    "                  np.exp(-36696/(8.3145*501.57)\n",
    "                        )*\n",
    "                  10**10.592\n",
    "                   ),'&',\n",
    "    locale.format('%4.8g', 7070.34*\n",
    "                    np.exp(-36696/(8.3145*501.57)\n",
    "                          )*\n",
    "                    1190/phi/1000 *10**10.592\n",
    "                   ),'&',\n",
    "    locale.format('%4.8g', (36696-3066*8.3145*np.log(10))),'&',\n",
    "    locale.format('%4.8g', -(36696-3066*8.3145*np.log(10))),'&', \n",
    "    \"k'_{Rückwärts}\", r'\\\\'\n",
    "    r'\\\\','r_{RWGS}', r'\\\\', r'\\\\',\n",
    "    \"k_1'\", '&',\n",
    "    locale.format('%4.8g', 1.65*np.exp(-(-94765)/(8.3145*501.57))), '&',\n",
    "    locale.format('%4.8g', 1.65*np.exp(-(-94765)/(8.3145*501.57)\n",
    "                                           )*1190/phi/1000 ), '&',  \n",
    "    locale.format('%4.8g', -94765), '&',\n",
    "    locale.format('%4.8g', 94765), '&', 'k_{Vorwärts}',\n",
    "    r'\\\\',\n",
    "    r\"k_1' \\cdot K_3\", '&',\n",
    "    locale.format('%4.8g', 1.65*np.exp(-(-94765)/(8.3145*501.57))*\n",
    "                  10**-2.029), '&',\n",
    "    locale.format('%4.8g', 1.65*np.exp(-(-94765)/(8.3145*501.57))*\n",
    "                  1190/phi/1000 *10**-2.029 ), '&', \n",
    "    locale.format('%4.8g', (-94765+2073*8.3145*np.log(10))),'&',\n",
    "    locale.format('%4.8g', -(-94765+2073*8.3145*np.log(10))),'&', \n",
    "    \"k'_{Rückwärts}\", r'\\\\',\n",
    "    r'\\\\',r'Adsorptionsterme (\\beta)', r'\\\\', r'\\\\',\n",
    "    r'\\sqrt{K_{H_2}}', '&', \n",
    "    locale.format('%4.8g', 30.82*np.exp(-(17197)/(8.3145*501.57))), '&',\n",
    "    locale.format('%4.8g', 30.82*np.exp(-(17197)/(8.3145*501.57))), '&',\n",
    "    locale.format('%4.8g', 17197.), '&',\n",
    "    locale.format('%4.8g', -17197.), '&', 'K1', r'\\\\',\n",
    "    'K_{H_2O}','&', \n",
    "    locale.format('%4.8g', 558.17*np.exp(-(124119)/(8.3145*501.57))), '&',\n",
    "    locale.format('%4.8g', 558.17*np.exp(-(124119)/(8.3145*501.57))), '&',\n",
    "    locale.format('%4.8g', 124119), '&',\n",
    "    locale.format('%4.8g', -124119), '&', 'K2', r'\\\\',\n",
    "    r'\\frac{K_{H_2O}}{K_8 K_9 K_{H2}}','&', \n",
    "    locale.format('%4.8g', 3453.38*np.exp(-(0)/(8.3145*501.57))), '&',\n",
    "    locale.format('%4.8g', 3453.38*np.exp(-(0)/(8.3145*501.57))), '&',\n",
    "    locale.format('%4.8g', 0), '&',\n",
    "    locale.format('%4.8g', -0), '&', 'K3', r'\\\\',\n",
    "    r'\\hline'\n",
    "    r'\\end{array}'\n",
    "]\n",
    "Latex('$'+''.join(table_latex_str)+'$')"
   ]
  },
  {
   "cell_type": "markdown",
   "metadata": {},
   "source": [
    "### WGS auf ICI-Fe3O4-Cr2O3"
   ]
  },
  {
   "cell_type": "code",
   "execution_count": 17,
   "metadata": {},
   "outputs": [
    {
     "data": {
      "text/latex": [
       "$\\text{Hohlraumvolumen: } \\phi=0,457\\\\\\begin{array}{lccccc}\\hline Var & A(i) & A(i)_{Hysys} & B(i) & E(i)_{Hysys} & \\text{Hysys Param}\\\\\\text{Form } K=A(i) \\cdot exp\\left(\\frac{B(i)}{R T}\\right) & \\frac{mol^{0,36} (m^3_{G})^{0,64}}{kg_{Kat}\\cdot s} & \\left(\\frac{kgmol}{m^3_{G}}\\right)^{0,36} \\cdot \\frac{1}{s} & \\frac{J}{mol} & \\frac{kJ}{kgmol} & \\text{Form } K=A_{Hysys} \\cdot exp\\left(-\\frac{E_{Hysys}}{R T}\\right) \\\\\\hline \\\\r_{WGS}\\\\\\\\k_m&3714,5024&719515,81&-66582,516&66582,516&k_{Vorwärts}\\\\k_m\\cdot \\frac{1}{K_{eq}}&265667,29&51460948&-103856,42&103856,42&k'_{Rückwärts}\\\\\\hline\\end{array}$"
      ],
      "text/plain": [
       "<IPython.core.display.Latex object>"
      ]
     },
     "execution_count": 17,
     "metadata": {},
     "output_type": "execute_result"
    }
   ],
   "source": [
    "import locale\n",
    "import numpy as np\n",
    "from IPython.display import Latex\n",
    "locale.setlocale(locale.LC_ALL, '')\n",
    "\n",
    "epsilon_b = 0.457\n",
    "\n",
    "table_latex_str = [\n",
    "    r'\\text{Hohlraumvolumen: } \\phi=', locale.format('%4.8g',epsilon_b),\n",
    "    r'\\\\',\n",
    "    r'\\begin{array}{lccccc}',\n",
    "    '\\hline ',\n",
    "    'Var & A(i) & A(i)_{Hysys} & B(i) & E(i)_{Hysys} & ',\n",
    "    r'\\text{Hysys Param}', r'\\\\',\n",
    "    r'\\text{Form } K=A(i) \\cdot exp\\left(\\frac{B(i)}{R T}\\right) ','&',\n",
    "    r' \\frac{mol^{0,36} (m^3_{G})^{0,64}}{kg_{Kat}\\cdot s}',\n",
    "    r' & \\left(\\frac{kgmol}{m^3_{G}}\\right)^{0,36} \\cdot \\frac{1}{s}',\n",
    "    r' & \\frac{J}{mol} & \\frac{kJ}{kgmol} & ', \n",
    "    r'\\text{Form } K=A_{Hysys} \\cdot exp\\left(-\\frac{E_{Hysys}}{R T}\\right) ', \n",
    "    r'\\\\',\n",
    "    '\\hline ',\n",
    "    r'\\\\','r_{WGS}', r'\\\\', r'\\\\',\n",
    "    \"k_m\", '&',\n",
    "    locale.format('%4.8g', np.exp(8.22)), '&',\n",
    "    locale.format('%4.8g', np.exp(8.22)*(1-epsilon_b)/epsilon_b*1960/1000.**0.36),\n",
    "    '&',\n",
    "    locale.format('%4.8g', -8008*8.3145), '&', \n",
    "    locale.format('%4.8g', +8008*8.3145), '&', 'k_{Vorwärts}',\n",
    "    r'\\\\',\n",
    "    r\"k_m\\cdot \\frac{1}{K_{eq}}\", '&',\n",
    "    locale.format('%4.8g', np.exp(8.22+4.27)),'&',\n",
    "    locale.format('%4.8g', np.exp(8.22+4.27)*(1-epsilon_b)/epsilon_b*1960/1000.**0.36),'&',\n",
    "    locale.format('%4.8g', (-8008-4483)*8.3145),'&',\n",
    "    locale.format('%4.8g', -(-8008-4483)*8.3145),'&', \n",
    "    \"k'_{Rückwärts}\", r'\\\\'\n",
    "    r'\\hline'\n",
    "    r'\\end{array}'\n",
    "]\n",
    "Latex('$'+''.join(table_latex_str)+'$')"
   ]
  },
  {
   "cell_type": "code",
   "execution_count": 18,
   "metadata": {},
   "outputs": [
    {
     "data": {
      "text/latex": [
       "$\\text{Hohlraumvolumen: } \\phi=0,457\\\\\\begin{array}{lccccc}\\hline Var & A(i) & A(i)_{Hysys} & B(i) & E(i)_{Hysys} & \\text{Hysys Param}\\\\\\text{Form } K=A(i) \\cdot exp\\left(\\frac{B(i)}{R T}\\right) & \\frac{mol^{0,36} (m^3_{G})^{0,64}}{kg_{Kat}\\cdot s} & \\left(\\frac{kgmol}{m^3_{G}}\\right)^{0,36} \\cdot \\frac{1}{s} & \\frac{J}{mol} & \\frac{kJ}{kgmol} & \\text{Form } K=A_{Hysys} \\cdot exp\\left(-\\frac{E_{Hysys}}{R T}\\right) \\\\\\hline \\\\r_{WGS}\\\\\\\\k_m&3714,5024&719515,81&-66582,516&66582,516&k_{Vorwärts}\\\\k_m\\cdot \\frac{1}{K_{eq}}&265667,29&51460948&-103856,42&103856,42&k'_{Rückwärts}\\\\\\hline\\end{array}$"
      ],
      "text/plain": [
       "<IPython.core.display.Latex object>"
      ]
     },
     "execution_count": 18,
     "metadata": {},
     "output_type": "execute_result"
    }
   ],
   "source": [
    "import locale\n",
    "import numpy as np\n",
    "from IPython.display import Latex\n",
    "locale.setlocale(locale.LC_ALL, '')\n",
    "\n",
    "epsilon_b = 0.457\n",
    "\n",
    "table_latex_str = [\n",
    "    r'\\text{Hohlraumvolumen: } \\phi=', locale.format('%4.8g',epsilon_b),\n",
    "    r'\\\\',\n",
    "    r'\\begin{array}{lccccc}',\n",
    "    '\\hline ',\n",
    "    'Var & A(i) & A(i)_{Hysys} & B(i) & E(i)_{Hysys} & ',\n",
    "    r'\\text{Hysys Param}', r'\\\\',\n",
    "    r'\\text{Form } K=A(i) \\cdot exp\\left(\\frac{B(i)}{R T}\\right) ','&',\n",
    "    r' \\frac{mol^{0,36} (m^3_{G})^{0,64}}{kg_{Kat}\\cdot s}',\n",
    "    r' & \\left(\\frac{kgmol}{m^3_{G}}\\right)^{0,36} \\cdot \\frac{1}{s}',\n",
    "    r' & \\frac{J}{mol} & \\frac{kJ}{kgmol} & ', \n",
    "    r'\\text{Form } K=A_{Hysys} \\cdot exp\\left(-\\frac{E_{Hysys}}{R T}\\right) ', \n",
    "    r'\\\\',\n",
    "    '\\hline ',\n",
    "    r'\\\\','r_{WGS}', r'\\\\', r'\\\\',\n",
    "    \"k_m\", '&',\n",
    "    locale.format('%4.8g', np.exp(8.22)), '&',\n",
    "    locale.format('%4.8g', np.exp(8.22)*(1-epsilon_b)/epsilon_b*1960/1000.**0.36),\n",
    "    '&',\n",
    "    locale.format('%4.8g', -8008*8.3145), '&', \n",
    "    locale.format('%4.8g', +8008*8.3145), '&', 'k_{Vorwärts}',\n",
    "    r'\\\\',\n",
    "    r\"k_m\\cdot \\frac{1}{K_{eq}}\", '&',\n",
    "    locale.format('%4.8g', np.exp(8.22+4.27)),'&',\n",
    "    locale.format('%4.8g', np.exp(8.22+4.27)*(1-epsilon_b)/epsilon_b*1960/1000.**0.36),'&',\n",
    "    locale.format('%4.8g', (-8008-4483)*8.3145),'&',\n",
    "    locale.format('%4.8g', -(-8008-4483)*8.3145),'&', \n",
    "    \"k'_{Rückwärts}\", r'\\\\'\n",
    "    r'\\hline'\n",
    "    r'\\end{array}'\n",
    "]\n",
    "Latex('$'+''.join(table_latex_str)+'$')"
   ]
  },
  {
   "cell_type": "markdown",
   "metadata": {},
   "source": [
    "### Wedel 1988"
   ]
  },
  {
   "cell_type": "code",
   "execution_count": 14,
   "metadata": {},
   "outputs": [
    {
     "data": {
      "text/plain": [
       "0.0030628317126543598"
      ]
     },
     "execution_count": 14,
     "metadata": {},
     "output_type": "execute_result"
    }
   ],
   "source": [
    "k_0_hin = 1.98e+7 # mol/(kg Kat * h * (MPa)^0,58)\n",
    "ea_hin = 56343 # J/mol\n",
    "nu_i_hin = np.array([0.18, 0.4, 0]) # CO, H2, CH3OH\n",
    "k_0_zur = 2.15e+10 # mol/(kg Kat * h * (MPa)^0,13)\n",
    "ea_zur = 85930 # J/mol\n",
    "nu_i_zur = np.array([0, 0, 0.13]) # CO, H2, CH3OH\n",
    "r = 8.314 # J/(mol K) \n",
    "\n",
    "def r_j_wedel(k_0, ea, p_i, t, nu_i):\n",
    "    k_t = k_0 * np.exp(-ea/(r * t))\n",
    "    return k_t * np.product(np.power(p_i, nu_i))\n",
    "\n"
   ]
  },
  {
   "cell_type": "code",
   "execution_count": 3,
   "metadata": {},
   "outputs": [
    {
     "name": "stdout",
     "output_type": "stream",
     "text": [
      "0.006689764481429299\n",
      "940.0\n"
     ]
    },
    {
     "data": {
      "text/plain": [
       "725.4285275642302"
      ]
     },
     "execution_count": 3,
     "metadata": {},
     "output_type": "execute_result"
    }
   ],
   "source": [
    "nco0 = 2115\n",
    "nco20 = 235\n",
    "xi=(nco0-nco20)/2\n",
    "print(1/10**(2073/(220+273.15)-2.029))\n",
    "print(xi)\n",
    "(2115+xi)/10**(2073/(219.9783+273.15)-2.029)+xi-235\n",
    "#(2115+xi)*0.00631477737+xi-235"
   ]
  },
  {
   "cell_type": "markdown",
   "metadata": {},
   "source": [
    "### Chem. Eng. Technol. 2011, 34, No. 5, 817–822 "
   ]
  },
  {
   "cell_type": "code",
   "execution_count": null,
   "metadata": {},
   "outputs": [],
   "source": [
    "d = "
   ]
  }
 ],
 "metadata": {
  "kernelspec": {
   "display_name": "Python 3",
   "language": "python",
   "name": "python3"
  },
  "language_info": {
   "codemirror_mode": {
    "name": "ipython",
    "version": 3
   },
   "file_extension": ".py",
   "mimetype": "text/x-python",
   "name": "python",
   "nbconvert_exporter": "python",
   "pygments_lexer": "ipython3",
   "version": "3.6.3"
  }
 },
 "nbformat": 4,
 "nbformat_minor": 2
}

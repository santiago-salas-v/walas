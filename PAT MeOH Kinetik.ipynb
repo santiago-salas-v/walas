{
 "cells": [
  {
   "cell_type": "markdown",
   "metadata": {},
   "source": [
    "### Vanden Bussche, Fromment 1995"
   ]
  },
  {
   "cell_type": "code",
   "execution_count": 115,
   "metadata": {},
   "outputs": [
    {
     "name": "stdout",
     "output_type": "stream",
     "text": [
      "Tabelle 8 Kp(RWGS)\n",
      "467K. Berechnet 1.54e+00\tArtikel 1.69e+00\n",
      "489K. Berechnet 1.84e+00\tArtikel 2.04e+00\n",
      "522K. Berechnet 2.34e+00\tArtikel 2.64e+00\n",
      "511K. Berechnet 2.16e+00\tArtikel 2.43e+00\n",
      "360K. Berechnet 5.42e-01\tArtikel 5.69e-01\n",
      "381K. Berechnet 6.86e-01\tArtikel 7.24e-01\n",
      "404K. Berechnet 8.70e-01\tArtikel 9.28e-01\n"
     ]
    },
    {
     "data": {
      "image/png": "[encoded data removed]",
      "text/plain": [
       "<matplotlib.figure.Figure at 0x18f8818f908>"
      ]
     },
     "metadata": {},
     "output_type": "display_data"
    }
   ],
   "source": [
    "import numpy as np\n",
    "import matplotlib.pyplot as plt\n",
    "from scipy import integrate\n",
    "from tc_lib import *\n",
    "%matplotlib inline\n",
    "plt.style.use('seaborn-deep')\n",
    "\n",
    "# Stoechiometrische Koeffizienten\n",
    "nuij = np.zeros([len(namen), 3])\n",
    "# Hydrierung von CO2\n",
    "nuij[[\n",
    "    namen.index('CO2'),\n",
    "    namen.index('H2'),\n",
    "    namen.index('CH3OH'),\n",
    "    namen.index('H2O'),\n",
    "    namen.index('CO'),\n",
    "],0] = np.array([-1, -3, +1, +1, 0], dtype=float)\n",
    "# Hydrierung von CO\n",
    "nuij[[\n",
    "    namen.index('CO2'),\n",
    "    namen.index('H2'),\n",
    "    namen.index('CH3OH'),\n",
    "    namen.index('H2O'),\n",
    "    namen.index('CO'),\n",
    "],1] = np.array([0, -2, +1, 0, -1], dtype=float)\n",
    "# RWGS Rückwassergasshiftreaktion\n",
    "nuij[[\n",
    "    namen.index('CO2'),\n",
    "    namen.index('H2'),\n",
    "    namen.index('CH3OH'),\n",
    "    namen.index('H2O'),\n",
    "    namen.index('CO'),\n",
    "],2] = np.array([+1, +1, 0, -1, -1], dtype=float)\n",
    "\n",
    "# Gleichgewichtskonstanten bei T, dem Artikel nach\n",
    "def k_gg(t):\n",
    "    k_1 = 10**(3066/t-10.592)\n",
    "    k_2 = 10**(5139/t-12.621)\n",
    "    k_3 = 10**(2073/t-2.029)\n",
    "    return np.array([k_1, k_2, k_3])\n",
    "\n",
    "# Gleichgewichtskonstanten bei T, berechnet\n",
    "def k_t(t, nuij):\n",
    "    h_t = h(t)\n",
    "    g_t = g(t, h_t)\n",
    "    k_t = k(t, g_t, nuij)\n",
    "    return k_t\n",
    "\n",
    "t = np.linspace(100, 900, 35) + 273.15\n",
    "fig = plt.figure()\n",
    "ax = fig.add_subplot(111)\n",
    "for i in range(nuij.shape[1]):\n",
    "    ax.plot(1000/t, \n",
    "            [k_t(temp, nuij)[i] for temp in t],\n",
    "            'o', label='K_berechnet'+str(i+1))\n",
    "    ax.plot(1000/t, k_gg(t)[i], \n",
    "            '-', label='K_Artikel'+str(i+1))\n",
    "ax.set_yscale('log')\n",
    "ax.set_xlabel(r'$\\frac{1000}{T/K}$')\n",
    "ax.legend()\n",
    "\n",
    "print('Tabelle 8 Kp(RWGS)')\n",
    "for t in np.array([467, 489, 522, 511, 360, 381, 404]):\n",
    "    print(\n",
    "        str(t) + 'K' + '. Berechnet ' +\n",
    "        '{:.2e}'.format(1/k_t(t+273.15, nuij)[2]*10) + \n",
    "        '\\t' + 'Artikel ' +\n",
    "        '{:.2e}'.format(1/k_gg(t+273.15)[2]*10)\n",
    "    )"
   ]
  },
  {
   "cell_type": "markdown",
   "metadata": {},
   "source": [
    "### Wedel 1988"
   ]
  },
  {
   "cell_type": "code",
   "execution_count": 14,
   "metadata": {},
   "outputs": [
    {
     "data": {
      "text/plain": [
       "0.0030628317126543598"
      ]
     },
     "execution_count": 14,
     "metadata": {},
     "output_type": "execute_result"
    }
   ],
   "source": [
    "k_0_hin = 1.98e+7 # mol/(kg Kat * h * (MPa)^0,58)\n",
    "ea_hin = 56343 # J/mol\n",
    "nu_i_hin = np.array([0.18, 0.4, 0]) # CO, H2, CH3OH\n",
    "k_0_zur = 2.15e+10 # mol/(kg Kat * h * (MPa)^0,13)\n",
    "ea_zur = 85930 # J/mol\n",
    "nu_i_zur = np.array([0, 0, 0.13]) # CO, H2, CH3OH\n",
    "r = 8.314 # J/(mol K) \n",
    "\n",
    "def r_j_wedel(k_0, ea, p_i, t, nu_i):\n",
    "    k_t = k_0 * np.exp(-ea/(r * t))\n",
    "    return k_t * np.product(np.power(p_i, nu_i))\n",
    "\n"
   ]
  }
 ],
 "metadata": {
  "kernelspec": {
   "display_name": "Python 3",
   "language": "python",
   "name": "python3"
  },
  "language_info": {
   "codemirror_mode": {
    "name": "ipython",
    "version": 3
   },
   "file_extension": ".py",
   "mimetype": "text/x-python",
   "name": "python",
   "nbconvert_exporter": "python",
   "pygments_lexer": "ipython3",
   "version": "3.6.3"
  }
 },
 "nbformat": 4,
 "nbformat_minor": 2
}

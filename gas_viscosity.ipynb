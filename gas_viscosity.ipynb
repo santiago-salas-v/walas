{
 "cells": [
  {
   "cell_type": "markdown",
   "metadata": {},
   "source": [
    "Viscosity of a pure monatomic gas [1] with mass of a single molecule $m=M/N_A$.\n",
    "\n",
    "$\\begin{align}\n",
    "\\mu=&\\frac{5}{16}\\frac{\\sqrt{\\pi m \\kappa T}}{\\pi\\sigma^2\\Omega_\\mu}\\\\\n",
    "=&\\frac{5}{16}\\sqrt{\\frac{1.3806\\cdot 10^{-23}}{\\pi\\cdot 1000\\cdot 6.022\\cdot 10^{23}}}\\frac{1}{(10^{-10})^2}\\frac{kg}{m\\cdot s}\\cdot\\frac{\\sqrt{\\left(\\frac{M}{g/mol}\\right)\\left(\\frac{T}{K}\\right)}}{\\left(\\frac{\\sigma}{\\unicode{x212B}}\\right)^2\\Omega_\\mu}\\\\\n",
    "=&\\underset{2.6696\\cdot 10^{-5}}{\\underbrace{\\frac{5}{16}\\sqrt{\\frac{1.3806\\cdot 10^{-23}}{\\pi\\cdot 1000\\cdot 6.022\\cdot 10^{23}}}\\frac{1}{(10^{-10})^2}\\frac{1000}{100}}}\\frac{g}{cm\\cdot s}\\cdot\\frac{\\sqrt{\\left(\\frac{M}{g/mol}\\right)\\left(\\frac{T}{K}\\right)}}{\\left(\\frac{\\sigma}{\\unicode{x212B}}\\right)^2\\Omega_\\mu}\n",
    "\\end{align}$\n",
    "\n",
    "with $\\kappa$ Boltzmann constant, $\\sigma$ Lennard-Jones collision diameter, $\\epsilon$ Lennard-Jones maximum energy of atraction between a pair of molecules, $\\Omega_\\mu$ collision integral for viscosity.\n",
    "\n",
    "Empirical equation for the collision integral for viscosity [2]:\n",
    "\n",
    "$\\Omega_\\mu=A\\cdot(T^*)^{-B}+C\\cdot exp(-D\\cdot(T^*))+E\\cdot exp(-F\\cdot(T^*))$\n",
    "\n",
    "$(T^*)=\\kappa T/\\epsilon, A=1.16145, B=0.14874, C=0.52487, D=0.77320, E=2.16178, and F=2.43787$ applicable for $0.3\\le(T^*)\\le 100$.\n",
    "\n",
    "Lennard-Jones parameters [2]\n",
    "\n",
    "i | $\\sigma/\\unicode{x212B}$ | $(\\frac{\\epsilon}{\\kappa}) / K$\n",
    "- | - | -\n",
    "$H_2$ | 2.827 | 59.7\n",
    "$CH_4$ | 3.758 | 148.6\n",
    "$CO_2$ | 3.941 | 195.2\n",
    "$CO$ | 3.690 | 91.7\n",
    "$H_2O$ | 2.641 | 809.1\n",
    "$N_2$ | 3.798 | 71.4\n",
    "$O_2$ | 3.467 | 106.7\n",
    "\n",
    "[1] Bird R. B., Stweart W. E., Lightfoot E. N. (2002). Transport phenomena. 2nd ed. John Wiley & Sons. New York. S. 26, 864\n",
    "\n",
    "[2] Poling B. E., Prausnitz J. M., O'Connell J. P. (2001). The properties of gases and liquids. 5th ed. McGraw-Hill. New York. S. B.1"
   ]
  },
  {
   "cell_type": "code",
   "execution_count": 34,
   "metadata": {},
   "outputs": [
    {
     "name": "stdout",
     "output_type": "stream",
     "text": [
      "viscosity at 1000K in Pa s\n",
      "H2\t1.955983517691978e-05\n",
      "CH4\t2.724648926529126e-05\n",
      "CO2\t3.915120571357742e-05\n",
      "CO\t4.029428197724614e-05\n",
      "H2O\t3.582129109507226e-05\n",
      "N2\t3.948255096714537e-05\n",
      "O2\t4.769402827198944e-05\n"
     ]
    }
   ],
   "source": [
    "from numpy import pi,array,exp,sqrt\n",
    "\n",
    "sigma_lj=array([2.827, 3.758, 3.941, 3.69, 2.641, 3.798, 3.467]) # Lennard Jones sigma, Angström \n",
    "epsilon_lj_ov_k=array([59.7, 148.6, 195.2, 91.7, 809.1, 71.4, 106.7]) # Lennard Jones epsilon/Boltztmann k, K\n",
    "mm=array([2,16,44,28,18,28,32]) # g/mol\n",
    "labels=['H2','CH4','CO2','CO','H2O','N2','O2']\n",
    "\n",
    "\n",
    "def mu(T):\n",
    "    T_=T/epsilon_lj_ov_k\n",
    "    omega_mu=1.16145*T_**(-0.14874)+0.52487*exp(-0.77320*T_)+2.16178*exp(-2.43787*T_)\n",
    "    return 5/16*sqrt(1.3806504e-23/(pi*1000*6.02214179e23))*1/1e-10**2*sqrt(mm*T)/(sigma_lj**2*omega_mu)\n",
    "\n",
    "\n",
    "print('viscosity at 1000K in Pa s')\n",
    "visc=mu(1000)\n",
    "for i in range(len(mm)):\n",
    "    print('{:s}\\t{:0.16g}'.format(labels[i],visc[i]))"
   ]
  }
 ],
 "metadata": {
  "kernelspec": {
   "display_name": "Python 3",
   "language": "python",
   "name": "python3"
  },
  "language_info": {
   "codemirror_mode": {
    "name": "ipython",
    "version": 3
   },
   "file_extension": ".py",
   "mimetype": "text/x-python",
   "name": "python",
   "nbconvert_exporter": "python",
   "pygments_lexer": "ipython3",
   "version": "3.8.5"
  }
 },
 "nbformat": 4,
 "nbformat_minor": 4
}

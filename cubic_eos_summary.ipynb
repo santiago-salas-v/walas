{
 "cells": [
  {
   "cell_type": "markdown",
   "metadata": {},
   "source": [
    "# Cubic EOS\n",
    "## Definitions accross refs.\n",
    "\n",
    "* Molar volume: $V = \\frac{v}{n} [=] m^3/mol$\n",
    "* Compressibility factor: $Z \\equiv \\frac{PV}{RT}$\n",
    "* Mixing rules, combining rules by phase p={L,V}:\n",
    "\n",
    "$\\begin{array}{lll}\n",
    "\\text{Phase dimensionless params.}&\n",
    "\\beta^p=\\frac{b^p P}{R T} &\n",
    "q^p=\\frac{a^p}{b^p R T}\\\\\n",
    "\\text{Mixing rule: linear} \n",
    "&a^p=\\sum\\limits_i{\\sum\\limits_j{x_i^p x_j^p a_{ij}}}&\n",
    "b^p=\\sum\\limits_i{x_i^p b_i}\\\\\n",
    "\\text{Combining rule: geom. mean} & a_{ij}=(a_i a_j)^{1/2} & b_i\n",
    "\\end{array}$\n",
    "\n",
    "Expressions\n",
    "\n",
    "$\\begin{array}{ccc}\n",
    "\\hline\n",
    "Ref&\n",
    "\\text{P - explicit}&\n",
    "\\text{Z - explicit}&[3]&[4]\\\\\n",
    "\\hline\n",
    "[1]&\n",
    "P=\\frac{R T}{V-b}-\\frac{\\theta(V-\\eta)}{\n",
    "(V-b)(V^2+\\kappa V +\\lambda)}&\n",
    "Z=\\frac{V}{V-b}-\\frac{\\theta}{\n",
    "(V-b)(V^2+\\kappa V +\\lambda)}\n",
    "&\n",
    "\\\\\n",
    "& \\eta=1, \\theta=a(T), \\kappa=(\\varepsilon+\\sigma)b, \n",
    "\\lambda=\\varepsilon \\sigma b^2\n",
    "& \\beta_i=\\frac{b_i P}{R T}, q_i=\\frac{a_i(T)}{b_i R T}\n",
    "\\Rightarrow q_i \\beta_i = \\frac{a_i(T) P}{(R T)^2}\n",
    "\\\\\n",
    "\\Rightarrow & \n",
    "P=\\frac{R T}{V-b}-\\frac{a(T)}{\n",
    "(V+\\varepsilon b)(V+\\sigma b)}\n",
    "&\n",
    "\\begin{array}{l}\n",
    "\\text{v-like: }\n",
    "Z=1+\\beta-q \\beta\\cdot\\frac{Z-\\beta}{\n",
    "(Z+\\varepsilon \\beta)(Z+\\sigma \\beta)}\\\\\n",
    "\\text{l-like: }\n",
    "Z=\\beta+(Z+\\varepsilon \\beta)(Z+\\sigma \\beta)\n",
    "\\left[\\frac{1+\\beta-Z}{q \\beta}\\right]\\\\\n",
    "\\begin{array}{lrl}\n",
    "\\text{poly: } 0= & +1 & Z^3\\\\\n",
    "  & +(\\beta(\\varepsilon+\\sigma)-\\beta-1)& Z^2\\\\\n",
    "  & +(q \\beta + \\varepsilon\\sigma\\beta^2-\n",
    "\\beta(\\varepsilon+\\sigma)(1+\\beta)& Z\\\\\n",
    "\\end{array}\n",
    "\\end{array}\n",
    "\\\\\n",
    "\\hline\n",
    "[2]& \n",
    "P=\\frac{R T}{V-b}-\\frac{\\theta(V-\\eta)}{\n",
    "(V-b)(V^2+\\delta V +\\varepsilon)}\n",
    "\\end{array}$"
   ]
  },
  {
   "cell_type": "markdown",
   "metadata": {},
   "source": [
    "## References\n",
    "[1] Smith, Joseph Mauk ; Ness, Hendrick C. Van ; Abbott, Michael M.: Introduction to chemical engineering thermodynamics. New York: McGraw-Hill, 2005.\n",
    "\n",
    "[2] Poling, Bruce ; Prausnitz, John ; Connell, John O': The Properties of Gases and Liquids. Madison: McGraw Hill Professional, 2000.\n",
    "\n",
    "[3] Zhao, Ensheng, and Sanjoy Saha. \"Applications of Complex Domain in Vapor− Liquid Equilibrium Calculations Using a Cubic Equation of State.\" Industrial & engineering chemistry research 37.5 (1998): 1625-1633.\n",
    "\n",
    "[4] Gmehling, Jürgen ; Kolbe, Bärbel ; Kleiber, Michael ; Rarey, Jürgen: Chemical Thermodynamics for Process Simulation. New York: John Wiley & Sons, 2012."
   ]
  },
  {
   "cell_type": "code",
   "execution_count": null,
   "metadata": {},
   "outputs": [],
   "source": []
  }
 ],
 "metadata": {
  "kernelspec": {
   "display_name": "Python 3",
   "language": "python",
   "name": "python3"
  },
  "language_info": {
   "codemirror_mode": {
    "name": "ipython",
    "version": 3
   },
   "file_extension": ".py",
   "mimetype": "text/x-python",
   "name": "python",
   "nbconvert_exporter": "python",
   "pygments_lexer": "ipython3",
   "version": "3.6.3"
  }
 },
 "nbformat": 4,
 "nbformat_minor": 2
}

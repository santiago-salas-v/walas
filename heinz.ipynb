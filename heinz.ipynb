{
 "cells": [
  {
   "cell_type": "markdown",
   "metadata": {},
   "source": [
    "##### Thermodynamik der chemischen Reaktionsgleichgewichte\n",
    "*Herwig, Heinz ; Kautz, Christian H.: Technische Thermodynamik. München: Pearson Studium, 2007.*\n"
   ]
  },
  {
   "cell_type": "markdown",
   "metadata": {},
   "source": [
    "Definitionen:"
   ]
  },
  {
   "cell_type": "code",
   "execution_count": 57,
   "metadata": {},
   "outputs": [],
   "source": [
    "import numpy as np\n",
    "from scipy import integrate\n",
    "\n",
    "r = 8.3145 # J/(mol °K)\n",
    "t0_ref = 298.15 # °K\n",
    "\n",
    "namen = ['CO', 'H2', 'CO2', 'H2O', 'CH4', 'NH3', 'AR', 'O2', 'N2']\n",
    "elemente = ['C', 'O', 'N', 'H', 'AR']\n",
    "\n",
    "nuij = np.array([\n",
    "    [+1, +2, +0, +0, -1, +0, +0, -1 / 2, +0],\n",
    "    [+1, +3, +0, -1, -1, +0, +0, +0, +0],\n",
    "    [-1, +1, +1, -1, +0, +0, +0, +0, +0],\n",
    "    [-1, -3, +0, +1, +1, +0, +0, +0, +0],\n",
    "    [+0, -4, -1, +2, +1, +0, +0, +0, +0],\n",
    "    [+0, -3 / 2, 0, 0, +0, +1, +0, +0, -1 / 2]\n",
    "]).T\n",
    "\n",
    "ne_dampf = np.array([\n",
    "    0, 0, 0, 60000, 0, 0, 0, 0, 0\n",
    "], dtype=float)  # kmol/h\n",
    "ne_rohgas = np.array([\n",
    "    0, 0, 0, 0, 20000, 0, 0, 0, 0\n",
    "], dtype=float)  # kmol/h\n",
    "ne_luft = np.array([\n",
    "    0, 0, 0, 0, 0, 0,\n",
    "    0.01 * 15000,\n",
    "    0.21 * 15000,\n",
    "    0.78 * 15000\n",
    "], dtype=float)  # kmol/h\n",
    "\n",
    "te_dampf = 500 + 273.15  # °K\n",
    "te_rohgas = 20 + 273.15  # °K\n",
    "te_luft = 20 + 273.15  # °K\n",
    "\n",
    "# Thermochemische Daten\n",
    "\n",
    "# Barin, Ihsan: Thermochemical Data of Pure Substances.\n",
    "# Weinheim, New York: VCH, 1993.\n",
    "\n",
    "h_298 = np.array(\n",
    "    [-110.541, 0., -393.505,\n",
    "     -241.826, -74.873, -45.940,\n",
    "     0., 0., 0.]) * 1000  # J/mol\n",
    "\n",
    "g_298 = np.array(\n",
    "    [-169.474, -38.962, -457.240,\n",
    "     -298.164, -130.393, -103.417,\n",
    "     -46.167, -61.165, -57.128\n",
    "     ]) * 1000  # J/mol\n",
    "\n",
    "# Kritische Parameter Tc, Pc, omega(azentrischer Faktor)\n",
    "\n",
    "# e.V., VDI: VDI-Wärmeatlas. Wiesbaden: Springer Berlin Heidelberg, 2013.\n",
    "\n",
    "tc = np.array([\n",
    "    132.86, 33.19, 304.13,\n",
    "    647.10, 190.56, 405.50,\n",
    "    150.69, 154.60, 126.19\n",
    "])  # K\n",
    "\n",
    "pc = np.array([\n",
    "    34.98, 13.15, 73.77,\n",
    "    220.64, 45.99, 113.59,\n",
    "    48.63, 50.46, 33.96\n",
    "])  # bar\n",
    "\n",
    "omega_af = np.array([\n",
    "    0.050, -0.219, 0.224,\n",
    "    0.344, 0.011, 0.256,\n",
    "    -0.002, 0.022, 0.037\n",
    "])\n",
    "# umformen (reshape), um direkte Division zu ermöglichen\n",
    "mm = np.array([\n",
    "    28.01, 2.02, 44.01,\n",
    "    18.02, 16.04, 17.03,\n",
    "    39.95, 32.00, 28.01\n",
    "]).reshape([len(namen), 1])\n",
    "\n",
    "# Koeffizienten für Cp(T)/R = B+(C-B)(T/(A+T))^2*(\n",
    "# 1-A/(A+T)*(D+E*T/(A+T)+F*(T/(A+T))^2+G*(T/(A+T))^3))\n",
    "# Nach rechts hin: A, B, C, D\n",
    "\n",
    "# e.V., VDI: VDI-Wärmeatlas. Wiesbaden: Springer Berlin Heidelberg, 2013.\n",
    "\n",
    "cp_coefs = np.array([z for z in [\n",
    "    [\n",
    "        y.replace(',', '.').replace('–', '-') for y in x.split('  ')\n",
    "    ] for x in \"\"\"\n",
    "407,9796  3,5028  2,8524  –2,3018  32,9055  –100,1815  106,1141\n",
    "392,8422  2,4906  –3,6262  –1,9624  35,6197  –81,3691  62,6668\n",
    "514,5073  3,4923  –0,9306  –6,0861  54,1586  –97,5157  70,9687\n",
    "706,3032  5,1703  –6,0865  –6,6011  36,2723  –63,0965  46,2085\n",
    "1530,8043  4,2038  –16,6150  –3,5668  43,0563  –86,5507  65,5986\n",
    "931,6298  4,8468  –7,1757  –7,6727  51,3877  –93,4217  67,9515\n",
    "0,0000  2,5000  2,5000  0,0000  0,0000  0,0000  0,0000\n",
    "2122,2098  3,5302  –7,1076  –1,4542  30,6057  –83,6696  79,4375\n",
    "432,2027  3,5160  2,8021  –4,1924  42,0153  –114,2500  111,1019\n",
    "\"\"\".split('\\n') if len(x) > 0] if len(z) > 1], dtype=float)\n",
    "\n",
    "\n",
    "def cp_durch_r(t, component=-1):\n",
    "    if component != -1:\n",
    "        cp_c_temp = cp_coefs[component, :]\n",
    "        a, b, c, d, e, f, g = np.split(cp_c_temp, len(cp_c_temp), axis=0)\n",
    "    else:\n",
    "        a, b, c, d, e, f, g = np.split(cp_coefs, cp_coefs.shape[1], axis=1)\n",
    "    return b + (c - b) * (t / (a + t))**2 * (\n",
    "        1 - a / (a + t) * (\n",
    "            d + e * t / (a + t) + f * (t / (a + t))**2 + g * (t / (a + t))**3\n",
    "        ))  # dimensionslos\n",
    "\n",
    "# Berechne H(T), G(T) und K(T) mit Cp(T)\n",
    "\n",
    "\n",
    "def h(t):\n",
    "    enthalpien = np.empty_like(h_298)\n",
    "    for i in range(len(enthalpien)):\n",
    "        int_cp_durch_r = integrate.quad(\n",
    "            lambda temp: cp_durch_r(temp, i), 298.15, t)[0]\n",
    "        enthalpien[i] = h_298[i] + r * int_cp_durch_r\n",
    "    return enthalpien  # J/mol\n",
    "\n",
    "\n",
    "def g(t, h_t):\n",
    "    freie_energien = np.empty_like(h_298)\n",
    "    for i in range(len(freie_energien)):\n",
    "        int_cp_durch_rt = integrate.quad(\n",
    "            lambda temp: cp_durch_r(temp, i) / temp, 298.15, t)[0]\n",
    "        freie_energien[i] = \\\n",
    "            h_t[i] - \\\n",
    "            t / t0_ref * (h_298[i] - g_298[i]) - r * t * int_cp_durch_rt\n",
    "    return freie_energien  # J/mol\n"
   ]
  },
  {
   "cell_type": "markdown",
   "metadata": {},
   "source": [
    "Ammoniaksynthesereaktion bei 400°C=673,15°K\n",
    "\n",
    "$3 H_2 + N2 \\rightleftharpoons NH_3$"
   ]
  },
  {
   "cell_type": "code",
   "execution_count": 103,
   "metadata": {},
   "outputs": [
    {
     "data": {
      "text/plain": [
       "['CO', 'H2', 'CO2', 'H2O', 'CH4', 'NH3', 'AR', 'O2', 'N2']"
      ]
     },
     "execution_count": 103,
     "metadata": {},
     "output_type": "execute_result"
    }
   ],
   "source": [
    "namen"
   ]
  },
  {
   "cell_type": "code",
   "execution_count": 106,
   "metadata": {},
   "outputs": [
    {
     "name": "stdout",
     "output_type": "stream",
     "text": [
      "delta_g_298=          -32.82 kJ/mol\n",
      "delta_h_298=          -91.88 kJ/mol\n",
      "delta_cp_298=        -44.8032 J/(mol °K)\n",
      "k_298=     5.62069e+05 \n",
      "\n",
      "delta_g_400=         48.1856 kJ/mol\n",
      "delta_h_400=         -104.56 kJ/mol\n",
      "delta_cp_400=        -22.8273 J/(mol °K)\n",
      "k_400=     0.000182396 \n"
     ]
    }
   ],
   "source": [
    "nuij = np.array([\n",
    "    [+0, -3 , 0, 0, 0, +2, +0, +0, -1]\n",
    "])\n",
    "\n",
    "delta_h_298 = nuij.dot(h_298).item()/1000. # kJ/mol\n",
    "delta_g_298 = nuij.dot(g_298).item()/1000. # kJ/mol\n",
    "delta_cp_298 = r * nuij.dot(\n",
    "    cp_durch_r(298.15)).item() # J/(mol °K)\n",
    "k_298 = np.exp(\n",
    "    -delta_g_298*1000/(r * (298.15))\n",
    ").item()\n",
    "\n",
    "h_400 = h(400 + 273.15)\n",
    "g_400 = g(400 + 273.15, h_400 )\n",
    "delta_h_400 = nuij.dot(h_400).item()/1000. # kJ/mol\n",
    "delta_g_400 = nuij.dot(g_400).item()/1000. # kJ/mol\n",
    "delta_cp_400 = r * nuij.dot(\n",
    "    cp_durch_r(400+273.15)).item() # J/(mol °K)\n",
    "k_400 = np.exp(\n",
    "    -delta_g_400*1000/(r * (400 + 273.15))\n",
    ").item()\n",
    "\n",
    "def print_variable(name, units):\n",
    "    print(name + '= ' + \n",
    "          '{:15.6}'.format(globals()[name]) + \n",
    "          ' ' + units)\n",
    "print_variable('delta_g_298', 'kJ/mol')\n",
    "print_variable('delta_h_298', 'kJ/mol')\n",
    "print_variable('delta_cp_298', 'J/(mol °K)')\n",
    "print_variable('k_298', '')\n",
    "print('')\n",
    "print_variable('delta_g_400', 'kJ/mol')\n",
    "print_variable('delta_h_400', 'kJ/mol')\n",
    "print_variable('delta_cp_400', 'J/(mol °K)')\n",
    "print_variable('k_400', '')"
   ]
  },
  {
   "cell_type": "markdown",
   "metadata": {},
   "source": [
    "Knallgasreaktion bei 300°K - 5000°K \n",
    "\n",
    "$ H_2O \\rightleftharpoons H_2 + \\frac{1}{2}O_2$"
   ]
  },
  {
   "cell_type": "code",
   "execution_count": 102,
   "metadata": {},
   "outputs": [
    {
     "data": {
      "text/plain": [
       "['CO', 'H2', 'CO2', 'H2O', 'CH4', 'NH3', 'AR', 'O2', 'N2']"
      ]
     },
     "execution_count": 102,
     "metadata": {},
     "output_type": "execute_result"
    }
   ],
   "source": [
    "namen"
   ]
  },
  {
   "cell_type": "code",
   "execution_count": 214,
   "metadata": {},
   "outputs": [
    {
     "name": "stdout",
     "output_type": "stream",
     "text": [
      "delta_g_298=         228.619 kJ/mol\n",
      "delta_h_298=         241.826 kJ/mol\n",
      "delta_cp_298=         10.0002 J/(mol °K)\n",
      "k_298=       8.867e-41 \n",
      "\n",
      "delta_g_5000=        -44.8427 kJ/mol\n",
      "delta_h_5000=         246.883 kJ/mol\n",
      "delta_cp_5000=         6.84434 J/(mol °K)\n",
      "k_5000=         2.78094 \n"
     ]
    }
   ],
   "source": [
    "nuij = np.array([\n",
    "    [0, +1 , 0, -1, 0, 0, 0, +1 / 2, 0]\n",
    "])\n",
    "\n",
    "delta_h_298 = nuij.dot(h_298).item()/1000. # kJ/mol\n",
    "delta_g_298 = nuij.dot(g_298).item()/1000. # kJ/mol\n",
    "delta_cp_298 = r * nuij.dot(\n",
    "    cp_durch_r(298.15)).item() # J/(mol °K)\n",
    "k_298 = np.exp(\n",
    "    -delta_g_298*1000/(r * (298.15))\n",
    ").item()\n",
    "\n",
    "h_5000 = h(5000 + 273.15)\n",
    "g_5000 = g(5000 + 273.15, h_5000 )\n",
    "delta_h_5000 = nuij.dot(h_5000).item()/1000. # kJ/mol\n",
    "delta_g_5000 = nuij.dot(g_5000).item()/1000. # kJ/mol\n",
    "delta_cp_5000 = r * nuij.dot(\n",
    "    cp_durch_r(5000+273.15)).item() # J/(mol °K)\n",
    "k_5000 = np.exp(\n",
    "    -delta_g_5000*1000/(r * (5000 + 273.15))\n",
    ").item()\n",
    "\n",
    "def print_variable(name, units):\n",
    "    print(name + '= ' + \n",
    "          '{:15.6}'.format(globals()[name]) + \n",
    "          ' ' + units)\n",
    "print_variable('delta_g_298', 'kJ/mol')\n",
    "print_variable('delta_h_298', 'kJ/mol')\n",
    "print_variable('delta_cp_298', 'J/(mol °K)')\n",
    "print_variable('k_298', '')\n",
    "print('')\n",
    "print_variable('delta_g_5000', 'kJ/mol')\n",
    "print_variable('delta_h_5000', 'kJ/mol')\n",
    "print_variable('delta_cp_5000', 'J/(mol °K)')\n",
    "print_variable('k_5000', '')\n",
    "\n",
    "temp = np.linspace(300, 5000, 50)\n",
    "h_300_5000 = np.array([h(t) for t in temp])\n",
    "g_300_5000 = np.array([g(t, h_300_5000[k]) \n",
    "                       for k, t in enumerate(temp)])\n",
    "delta_h_t = np.array(\n",
    "    [nuij.dot(h_k)/1000. for h_k in h_300_5000]).flatten()\n",
    "delta_g_t = np.array(\n",
    "    [nuij.dot(g_k)/1000. for g_k in g_300_5000]).flatten()\n",
    "t_delta_s_t = np.array([\n",
    "    (delta_h_t[k]-delta_g_t[k])\n",
    "    for k in range(len(temp))]).flatten()\n",
    "t_bei_null_g = -np.interp(0, -delta_g_t, -temp)"
   ]
  },
  {
   "cell_type": "code",
   "execution_count": 219,
   "metadata": {},
   "outputs": [
    {
     "data": {
      "image/png": "[encoded data removed]",
      "text/plain": [
       "<matplotlib.figure.Figure at 0x23c43a624e0>"
      ]
     },
     "metadata": {},
     "output_type": "display_data"
    }
   ],
   "source": [
    "import matplotlib.pyplot as plt\n",
    "%matplotlib inline\n",
    "plt.style.use('seaborn-muted')\n",
    "fig = plt.figure()\n",
    "ax = fig.add_subplot(111)\n",
    "lines = ax.plot(temp, delta_h_t, '-', \n",
    "         temp, delta_g_t, '-.', \n",
    "         temp, t_delta_s_t, '--.')\n",
    "ax.annotate('$\\Delta_R H^{\\circ}(T)$', \n",
    "           xy=(lines[0].get_data()[0][3],\n",
    "              lines[0].get_data()[1][3]-15), \n",
    "           xycoords='data')\n",
    "ax.annotate('$\\Delta_R G^{\\circ}(T)$', \n",
    "           xy=(lines[1].get_data()[0][3],\n",
    "              lines[1].get_data()[1][3]-15), \n",
    "           xycoords='data')\n",
    "ax.annotate('$T\\Delta_R S^{\\circ}(T)$', \n",
    "           xy=(lines[2].get_data()[0][3],\n",
    "              lines[2].get_data()[1][3]-15), \n",
    "           xycoords='data')\n",
    "ax.set_xlabel('T / °K')\n",
    "ax.set_ylabel('$\\Delta_R G, \\Delta_R H, T \\Delta_R S '\n",
    "             + ' / (kJ \\cdot mol^-1)$')\n",
    "ax.annotate('$T\\Delta_R S^{\\circ}(T)$', \n",
    "           xy=(lines[2].get_data()[0][3],\n",
    "              lines[2].get_data()[1][3]-15), \n",
    "           xycoords='data')\n",
    "ax.annotate('{:0.4g}'.format(t_bei_null_g) + '°K', \n",
    "           xy=(t_bei_null_g, 0+5.0), \n",
    "           xycoords='data')\n",
    "ax.plot([300, 5000], [0,0], '--')\n",
    "ax.plot([t_bei_null_g, t_bei_null_g], [-50,0], '--')\n",
    "ax.set_ylim([-50,350])\n",
    "ax.set_xlim([300,5000]);"
   ]
  }
 ],
 "metadata": {
  "kernelspec": {
   "display_name": "Python 3",
   "language": "python",
   "name": "python3"
  },
  "language_info": {
   "codemirror_mode": {
    "name": "ipython",
    "version": 3
   },
   "file_extension": ".py",
   "mimetype": "text/x-python",
   "name": "python",
   "nbconvert_exporter": "python",
   "pygments_lexer": "ipython3",
   "version": "3.6.3"
  }
 },
 "nbformat": 4,
 "nbformat_minor": 2
}
